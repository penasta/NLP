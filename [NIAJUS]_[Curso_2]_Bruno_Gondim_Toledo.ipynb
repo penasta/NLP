{
  "nbformat": 4,
  "nbformat_minor": 0,
  "metadata": {
    "colab": {
      "provenance": []
    },
    "kernelspec": {
      "name": "python3",
      "display_name": "Python 3"
    },
    "language_info": {
      "name": "python"
    }
  },
  "cells": [
    {
      "cell_type": "markdown",
      "source": [
        "# Modelo apresentado na aula:"
      ],
      "metadata": {
        "id": "Ryhn8pnzH0An"
      }
    },
    {
      "cell_type": "code",
      "execution_count": 75,
      "metadata": {
        "id": "RY5iXBi9tvpv"
      },
      "outputs": [],
      "source": [
        "import numpy as np"
      ]
    },
    {
      "cell_type": "code",
      "source": [
        "cil_observado = np.array([1200,2230,1650,1220,2560,900,1480])\n",
        "consumo_observado = np.array([.06,.1,.11,.05,.1,.07,.11])"
      ],
      "metadata": {
        "id": "Vn13M_uTuuSr"
      },
      "execution_count": 76,
      "outputs": []
    },
    {
      "cell_type": "code",
      "source": [
        "regressores = cil_observado.reshape((-1,1))\n",
        "regressores"
      ],
      "metadata": {
        "colab": {
          "base_uri": "https://localhost:8080/"
        },
        "id": "IJ6zRY3_vNpT",
        "outputId": "d7aa08e6-8157-47de-82fd-8195739eac50"
      },
      "execution_count": 77,
      "outputs": [
        {
          "output_type": "execute_result",
          "data": {
            "text/plain": [
              "array([[1200],\n",
              "       [2230],\n",
              "       [1650],\n",
              "       [1220],\n",
              "       [2560],\n",
              "       [ 900],\n",
              "       [1480]])"
            ]
          },
          "metadata": {},
          "execution_count": 77
        }
      ]
    },
    {
      "cell_type": "code",
      "source": [
        "features = variaveis_independentes = regressores\n",
        "alvos = variaveis_dependentes = variaveis_resposta = variaveis_de_desfecho = consumo_observado"
      ],
      "metadata": {
        "id": "trQtmAnNvcth"
      },
      "execution_count": 78,
      "outputs": []
    },
    {
      "cell_type": "code",
      "source": [
        "from sklearn.linear_model import LinearRegression"
      ],
      "metadata": {
        "id": "zWQ-xAwYvrZR"
      },
      "execution_count": 79,
      "outputs": []
    },
    {
      "cell_type": "code",
      "source": [
        "modelo = LinearRegression().fit(regressores,consumo_observado)"
      ],
      "metadata": {
        "id": "4EuYVTiKvxJx"
      },
      "execution_count": 80,
      "outputs": []
    },
    {
      "cell_type": "code",
      "source": [
        "modelo.coef_"
      ],
      "metadata": {
        "colab": {
          "base_uri": "https://localhost:8080/"
        },
        "id": "wbFa5qQBwBl-",
        "outputId": "0ec7c1de-cdae-4d4c-f345-478876b6a9cf"
      },
      "execution_count": 81,
      "outputs": [
        {
          "output_type": "execute_result",
          "data": {
            "text/plain": [
              "array([2.62359965e-05])"
            ]
          },
          "metadata": {},
          "execution_count": 81
        }
      ]
    },
    {
      "cell_type": "code",
      "source": [
        "f'{modelo.coef_[0]:.20f}'"
      ],
      "metadata": {
        "colab": {
          "base_uri": "https://localhost:8080/",
          "height": 35
        },
        "id": "sv5HvPDFv2Pp",
        "outputId": "732b50ea-7a32-474f-db66-13c0cb0f1930"
      },
      "execution_count": 82,
      "outputs": [
        {
          "output_type": "execute_result",
          "data": {
            "text/plain": [
              "'0.00002623599651170591'"
            ],
            "application/vnd.google.colaboratory.intrinsic+json": {
              "type": "string"
            }
          },
          "metadata": {},
          "execution_count": 82
        }
      ]
    },
    {
      "cell_type": "code",
      "source": [
        "modelo.intercept_"
      ],
      "metadata": {
        "colab": {
          "base_uri": "https://localhost:8080/"
        },
        "id": "ADMBujHzv-bd",
        "outputId": "91341a2a-8a48-4b0e-b239-a67befa2cbf6"
      },
      "execution_count": 83,
      "outputs": [
        {
          "output_type": "execute_result",
          "data": {
            "text/plain": [
              "0.04358677131548938"
            ]
          },
          "metadata": {},
          "execution_count": 83
        }
      ]
    },
    {
      "cell_type": "code",
      "source": [
        "consumo_estimado = modelo.predict(regressores)\n",
        "consumo_estimado"
      ],
      "metadata": {
        "colab": {
          "base_uri": "https://localhost:8080/"
        },
        "id": "xCm2pkrSwh06",
        "outputId": "2bcb1aa5-196b-4d3d-bb0a-c04a07382637"
      },
      "execution_count": 84,
      "outputs": [
        {
          "output_type": "execute_result",
          "data": {
            "text/plain": [
              "array([0.07506997, 0.10209304, 0.08687617, 0.07559469, 0.11075092,\n",
              "       0.06719917, 0.08241605])"
            ]
          },
          "metadata": {},
          "execution_count": 84
        }
      ]
    },
    {
      "cell_type": "code",
      "source": [
        "erros_lineares = consumo_observado - consumo_estimado\n",
        "erros_lineares"
      ],
      "metadata": {
        "colab": {
          "base_uri": "https://localhost:8080/"
        },
        "id": "kt2LsFz4wnWy",
        "outputId": "8734850c-51be-402e-9363-4c44ab591c18"
      },
      "execution_count": 85,
      "outputs": [
        {
          "output_type": "execute_result",
          "data": {
            "text/plain": [
              "array([-0.01506997, -0.00209304,  0.02312383, -0.02559469, -0.01075092,\n",
              "        0.00280083,  0.02758395])"
            ]
          },
          "metadata": {},
          "execution_count": 85
        }
      ]
    },
    {
      "cell_type": "code",
      "source": [
        "erro_quadratico_medio = np.mean(np.square(erros_lineares))\n",
        "erro_quadratico_medio"
      ],
      "metadata": {
        "colab": {
          "base_uri": "https://localhost:8080/"
        },
        "id": "u8rjvr_fwr4i",
        "outputId": "c71cab00-7f3a-423e-af05-dd99ddcc01d1"
      },
      "execution_count": 86,
      "outputs": [
        {
          "output_type": "execute_result",
          "data": {
            "text/plain": [
              "0.0003293694237606496"
            ]
          },
          "metadata": {},
          "execution_count": 86
        }
      ]
    },
    {
      "cell_type": "code",
      "source": [
        "from sklearn.metrics import mean_squared_error\n",
        "mean_squared_error(consumo_observado,modelo.predict(regressores))"
      ],
      "metadata": {
        "colab": {
          "base_uri": "https://localhost:8080/"
        },
        "id": "Myh3yIeUwxzL",
        "outputId": "dff7dec9-6452-44fb-a869-5cce816d081a"
      },
      "execution_count": 87,
      "outputs": [
        {
          "output_type": "execute_result",
          "data": {
            "text/plain": [
              "0.0003293694237606496"
            ]
          },
          "metadata": {},
          "execution_count": 87
        }
      ]
    },
    {
      "cell_type": "code",
      "source": [
        "mean_squared_error(consumo_observado, consumo_estimado)"
      ],
      "metadata": {
        "colab": {
          "base_uri": "https://localhost:8080/"
        },
        "id": "BxRyezxnw-mr",
        "outputId": "d92e6914-657b-43cf-e9fc-a44021e0b40d"
      },
      "execution_count": 88,
      "outputs": [
        {
          "output_type": "execute_result",
          "data": {
            "text/plain": [
              "0.0003293694237606496"
            ]
          },
          "metadata": {},
          "execution_count": 88
        }
      ]
    },
    {
      "cell_type": "code",
      "source": [
        "cilindradas_das_opcoes_de_compra = np.array([1356,2544])\n",
        "preditores_de_compra = cilindradas_das_opcoes_de_compra.reshape((-1,1))\n",
        "preditores_de_compra"
      ],
      "metadata": {
        "colab": {
          "base_uri": "https://localhost:8080/"
        },
        "id": "2gmFJ7oD3-lD",
        "outputId": "9521c38a-7b32-4f4c-d95a-895a302c1a99"
      },
      "execution_count": 89,
      "outputs": [
        {
          "output_type": "execute_result",
          "data": {
            "text/plain": [
              "array([[1356],\n",
              "       [2544]])"
            ]
          },
          "metadata": {},
          "execution_count": 89
        }
      ]
    },
    {
      "cell_type": "code",
      "source": [
        "modelo.predict(preditores_de_compra)"
      ],
      "metadata": {
        "colab": {
          "base_uri": "https://localhost:8080/"
        },
        "id": "fjWQ64rd4mBI",
        "outputId": "1393d4d4-131c-4b74-ad6a-217aa2d9ec5e"
      },
      "execution_count": 90,
      "outputs": [
        {
          "output_type": "execute_result",
          "data": {
            "text/plain": [
              "array([0.07916278, 0.11033115])"
            ]
          },
          "metadata": {},
          "execution_count": 90
        }
      ]
    },
    {
      "cell_type": "code",
      "source": [
        "1/modelo.predict(preditores_de_compra)"
      ],
      "metadata": {
        "colab": {
          "base_uri": "https://localhost:8080/"
        },
        "id": "UaE1mOKB4pmo",
        "outputId": "b569ddc0-9baa-4df4-c490-5b7005cf6c60"
      },
      "execution_count": 91,
      "outputs": [
        {
          "output_type": "execute_result",
          "data": {
            "text/plain": [
              "array([12.63219871,  9.06362376])"
            ]
          },
          "metadata": {},
          "execution_count": 91
        }
      ]
    },
    {
      "cell_type": "markdown",
      "source": [
        "----------------------------------------------------------------------------------------------------------------------------------------------------------------"
      ],
      "metadata": {
        "id": "YyraEDRqH_Ah"
      }
    },
    {
      "cell_type": "markdown",
      "source": [
        "# Ajustando um modelo regressivo"
      ],
      "metadata": {
        "id": "QXx04AaM5M_5"
      }
    },
    {
      "cell_type": "code",
      "source": [
        "import polars as pl"
      ],
      "metadata": {
        "id": "3RPmwhwf5RiB"
      },
      "execution_count": 92,
      "outputs": []
    },
    {
      "cell_type": "markdown",
      "source": [
        "# Vou usar um exemplo de dados chamado de Layman Brothers que tem como objetivo entregar um serviço de Machine Learning que informa se um cliente vai entrar em uma situação de atraso de pagamento ou não"
      ],
      "metadata": {
        "id": "oSwdCCjZ6Gix"
      }
    },
    {
      "cell_type": "code",
      "source": [
        "df = pl.read_csv(\"https://raw.githubusercontent.com/fclesio/learning-space/master/Datasets/02%20-%20Classification/default_credit_card.csv\")"
      ],
      "metadata": {
        "id": "mXEx7z9t6vJo"
      },
      "execution_count": 93,
      "outputs": []
    },
    {
      "cell_type": "code",
      "source": [
        "df.head()"
      ],
      "metadata": {
        "colab": {
          "base_uri": "https://localhost:8080/",
          "height": 275
        },
        "id": "xFgMMb158c0E",
        "outputId": "d401c6e2-71b7-4610-b67e-1a7302103979"
      },
      "execution_count": 94,
      "outputs": [
        {
          "output_type": "execute_result",
          "data": {
            "text/plain": [
              "shape: (5, 25)\n",
              "┌─────┬───────────┬─────┬───────────┬───┬──────────┬──────────┬──────────┬─────────┐\n",
              "│ ID  ┆ LIMIT_BAL ┆ SEX ┆ EDUCATION ┆ … ┆ PAY_AMT4 ┆ PAY_AMT5 ┆ PAY_AMT6 ┆ DEFAULT │\n",
              "│ --- ┆ ---       ┆ --- ┆ ---       ┆   ┆ ---      ┆ ---      ┆ ---      ┆ ---     │\n",
              "│ i64 ┆ i64       ┆ i64 ┆ i64       ┆   ┆ i64      ┆ i64      ┆ i64      ┆ i64     │\n",
              "╞═════╪═══════════╪═════╪═══════════╪═══╪══════════╪══════════╪══════════╪═════════╡\n",
              "│ 1   ┆ 20000     ┆ 2   ┆ 2         ┆ … ┆ 0        ┆ 0        ┆ 0        ┆ 1       │\n",
              "│ 2   ┆ 120000    ┆ 2   ┆ 2         ┆ … ┆ 1000     ┆ 0        ┆ 2000     ┆ 1       │\n",
              "│ 3   ┆ 90000     ┆ 2   ┆ 2         ┆ … ┆ 1000     ┆ 1000     ┆ 5000     ┆ 0       │\n",
              "│ 4   ┆ 50000     ┆ 2   ┆ 2         ┆ … ┆ 1100     ┆ 1069     ┆ 1000     ┆ 0       │\n",
              "│ 5   ┆ 50000     ┆ 1   ┆ 2         ┆ … ┆ 9000     ┆ 689      ┆ 679      ┆ 0       │\n",
              "└─────┴───────────┴─────┴───────────┴───┴──────────┴──────────┴──────────┴─────────┘"
            ],
            "text/html": [
              "<div><style>\n",
              ".dataframe > thead > tr > th,\n",
              ".dataframe > tbody > tr > td {\n",
              "  text-align: right;\n",
              "}\n",
              "</style>\n",
              "<small>shape: (5, 25)</small><table border=\"1\" class=\"dataframe\"><thead><tr><th>ID</th><th>LIMIT_BAL</th><th>SEX</th><th>EDUCATION</th><th>MARRIAGE</th><th>AGE</th><th>PAY_0</th><th>PAY_2</th><th>PAY_3</th><th>PAY_4</th><th>PAY_5</th><th>PAY_6</th><th>BILL_AMT1</th><th>BILL_AMT2</th><th>BILL_AMT3</th><th>BILL_AMT4</th><th>BILL_AMT5</th><th>BILL_AMT6</th><th>PAY_AMT1</th><th>PAY_AMT2</th><th>PAY_AMT3</th><th>PAY_AMT4</th><th>PAY_AMT5</th><th>PAY_AMT6</th><th>DEFAULT</th></tr><tr><td>i64</td><td>i64</td><td>i64</td><td>i64</td><td>i64</td><td>i64</td><td>i64</td><td>i64</td><td>i64</td><td>i64</td><td>i64</td><td>i64</td><td>i64</td><td>i64</td><td>i64</td><td>i64</td><td>i64</td><td>i64</td><td>i64</td><td>i64</td><td>i64</td><td>i64</td><td>i64</td><td>i64</td><td>i64</td></tr></thead><tbody><tr><td>1</td><td>20000</td><td>2</td><td>2</td><td>1</td><td>24</td><td>2</td><td>2</td><td>-1</td><td>-1</td><td>-2</td><td>-2</td><td>3913</td><td>3102</td><td>689</td><td>0</td><td>0</td><td>0</td><td>0</td><td>689</td><td>0</td><td>0</td><td>0</td><td>0</td><td>1</td></tr><tr><td>2</td><td>120000</td><td>2</td><td>2</td><td>2</td><td>26</td><td>-1</td><td>2</td><td>0</td><td>0</td><td>0</td><td>2</td><td>2682</td><td>1725</td><td>2682</td><td>3272</td><td>3455</td><td>3261</td><td>0</td><td>1000</td><td>1000</td><td>1000</td><td>0</td><td>2000</td><td>1</td></tr><tr><td>3</td><td>90000</td><td>2</td><td>2</td><td>2</td><td>34</td><td>0</td><td>0</td><td>0</td><td>0</td><td>0</td><td>0</td><td>29239</td><td>14027</td><td>13559</td><td>14331</td><td>14948</td><td>15549</td><td>1518</td><td>1500</td><td>1000</td><td>1000</td><td>1000</td><td>5000</td><td>0</td></tr><tr><td>4</td><td>50000</td><td>2</td><td>2</td><td>1</td><td>37</td><td>0</td><td>0</td><td>0</td><td>0</td><td>0</td><td>0</td><td>46990</td><td>48233</td><td>49291</td><td>28314</td><td>28959</td><td>29547</td><td>2000</td><td>2019</td><td>1200</td><td>1100</td><td>1069</td><td>1000</td><td>0</td></tr><tr><td>5</td><td>50000</td><td>1</td><td>2</td><td>1</td><td>57</td><td>-1</td><td>0</td><td>-1</td><td>0</td><td>0</td><td>0</td><td>8617</td><td>5670</td><td>35835</td><td>20940</td><td>19146</td><td>19131</td><td>2000</td><td>36681</td><td>10000</td><td>9000</td><td>689</td><td>679</td><td>0</td></tr></tbody></table></div>"
            ]
          },
          "metadata": {},
          "execution_count": 94
        }
      ]
    },
    {
      "cell_type": "markdown",
      "source": [
        "No caso, teremos um modelo para explicar o default (\"1\" ou \"2\"; \"sim\" ou \"não\". Ou seja, na realidade estamos fazendo uma regressão logística)\n",
        "Acredito que não seja objetivo desta etapa do curso avaliar pressupostos do modelo, portanto, irei apenas modelar e apresentar os resultados."
      ],
      "metadata": {
        "id": "8tHWeCXS-Fm7"
      }
    },
    {
      "cell_type": "code",
      "source": [
        "variaveis_explicativas = df[:,1:24]"
      ],
      "metadata": {
        "id": "8OxDw2199KGb"
      },
      "execution_count": 95,
      "outputs": []
    },
    {
      "cell_type": "code",
      "source": [
        "variavel_resposta = df.select([\"DEFAULT\"])"
      ],
      "metadata": {
        "id": "8HyXSv2O9pFM"
      },
      "execution_count": 96,
      "outputs": []
    },
    {
      "cell_type": "code",
      "source": [
        "modelo = LinearRegression().fit(variaveis_explicativas,variavel_resposta)"
      ],
      "metadata": {
        "id": "LqUsHJ4z8l0L"
      },
      "execution_count": 97,
      "outputs": []
    },
    {
      "cell_type": "code",
      "source": [
        "modelo.coef_"
      ],
      "metadata": {
        "colab": {
          "base_uri": "https://localhost:8080/"
        },
        "id": "wmG7oIre-e_p",
        "outputId": "3795e427-ed0a-4f48-9ad7-da3d2c969016"
      },
      "execution_count": 98,
      "outputs": [
        {
          "output_type": "execute_result",
          "data": {
            "text/plain": [
              "array([[-9.05316482e-08, -1.45313763e-02, -1.51273575e-02,\n",
              "        -2.38215135e-02,  1.40949931e-03,  9.57054669e-02,\n",
              "         1.94561569e-02,  1.16741658e-02,  3.36189863e-03,\n",
              "         5.69939979e-03,  7.92019704e-04, -6.22465927e-07,\n",
              "         1.58703031e-07,  3.00530072e-08, -6.79349887e-08,\n",
              "        -2.04872290e-08,  1.15259313e-07, -7.43691308e-07,\n",
              "        -2.09190755e-07, -2.87353920e-08, -2.52077019e-07,\n",
              "        -3.40958059e-07, -9.76977762e-08]])"
            ]
          },
          "metadata": {},
          "execution_count": 98
        }
      ]
    },
    {
      "cell_type": "markdown",
      "source": [
        "Nesta etapa, conseguimos ver os coeficientes angulares das variáveis explicativas do modelo. O ideal seria fazermos nesta etapa um teste de ausência de regressão, além de testar quais variáveis são significativas. Mas vamos apenas aceitar este modelo por hora."
      ],
      "metadata": {
        "id": "h_jfMzv_-oKp"
      }
    },
    {
      "cell_type": "code",
      "source": [
        "modelo.intercept_"
      ],
      "metadata": {
        "colab": {
          "base_uri": "https://localhost:8080/"
        },
        "id": "JYvHk5vv-3TY",
        "outputId": "3dd63305-2394-46c4-9870-4d6bd5ef2a6b"
      },
      "execution_count": 99,
      "outputs": [
        {
          "output_type": "execute_result",
          "data": {
            "text/plain": [
              "array([0.3141967])"
            ]
          },
          "metadata": {},
          "execution_count": 99
        }
      ]
    },
    {
      "cell_type": "markdown",
      "source": [
        "Aqui, aproveitamos para verificar também o valor do intercepto do modelo."
      ],
      "metadata": {
        "id": "yBa54Gp--8vY"
      }
    },
    {
      "cell_type": "code",
      "source": [
        "obs = modelo.predict(variaveis_explicativas)\n",
        "obs"
      ],
      "metadata": {
        "colab": {
          "base_uri": "https://localhost:8080/"
        },
        "id": "kgoA7d1r-54Q",
        "outputId": "137f2370-4333-48d6-fdaa-17ef7b845188"
      },
      "execution_count": 100,
      "outputs": [
        {
          "output_type": "execute_result",
          "data": {
            "text/plain": [
              "array([[0.46331258],\n",
              "       [0.17589259],\n",
              "       [0.22940405],\n",
              "       ...,\n",
              "       [0.72849166],\n",
              "       [0.29068494],\n",
              "       [0.28128709]])"
            ]
          },
          "metadata": {},
          "execution_count": 100
        }
      ]
    },
    {
      "cell_type": "markdown",
      "source": [
        "Aqui o formato se torna confuso, visto que a variável é dicotômica (1;0). Então, a interpretação a grosso modo é: se <= .5, arredondar para 0. Caso contrário, 1.\n",
        "Podemos ver a contagem de erros do modelo.\n",
        "\n"
      ],
      "metadata": {
        "id": "Fo7WirU3_br2"
      }
    },
    {
      "cell_type": "code",
      "source": [
        "def contagem(array1, array2):\n",
        "  diferencas = 0\n",
        "  for a, b in zip(array1, array2):\n",
        "    if a != b:\n",
        "      diferencas += 1\n",
        "  return diferencas\n",
        "\n",
        "preditas = [0 if i <= 0.5 else 1 for i in obs]\n",
        "contagem(preditas,variavel_resposta.to_numpy())"
      ],
      "metadata": {
        "colab": {
          "base_uri": "https://localhost:8080/"
        },
        "id": "3G64OANvDy9V",
        "outputId": "0acea9ea-d0cf-4699-8e77-fb37f14eba0a"
      },
      "execution_count": 101,
      "outputs": [
        {
          "output_type": "execute_result",
          "data": {
            "text/plain": [
              "6019"
            ]
          },
          "metadata": {},
          "execution_count": 101
        }
      ]
    },
    {
      "cell_type": "markdown",
      "source": [
        "O ideal neste tipo de caso é apresentar a matriz de confusão, mas neste caso irei apresentar apenas a proporção de acertos do modelo, ou seja,"
      ],
      "metadata": {
        "id": "N-TDbjlDFYTx"
      }
    },
    {
      "cell_type": "code",
      "source": [
        "1 - 6019/30000"
      ],
      "metadata": {
        "colab": {
          "base_uri": "https://localhost:8080/"
        },
        "id": "o5z2EGQVFemG",
        "outputId": "82aafa74-b336-4e92-fa04-f39d3162601c"
      },
      "execution_count": 72,
      "outputs": [
        {
          "output_type": "execute_result",
          "data": {
            "text/plain": [
              "0.7993666666666667"
            ]
          },
          "metadata": {},
          "execution_count": 72
        }
      ]
    },
    {
      "cell_type": "markdown",
      "source": [
        "O que parece bastante razoável."
      ],
      "metadata": {
        "id": "gGkKVcIfFmFY"
      }
    },
    {
      "cell_type": "markdown",
      "source": [
        "Podemos observar também o erro quadrático médio do modelo (apesar da interpretação deste ser levemente diferente pelo fato de ser uma regressão logística\n",
        ")"
      ],
      "metadata": {
        "id": "9OKjmzc6HpWS"
      }
    },
    {
      "cell_type": "code",
      "source": [
        "mean_squared_error(variavel_resposta.to_numpy(),obs)"
      ],
      "metadata": {
        "colab": {
          "base_uri": "https://localhost:8080/"
        },
        "id": "janahHbNFgdt",
        "outputId": "9a0fb708-2bf8-4a92-bb3a-757231e829a6"
      },
      "execution_count": 74,
      "outputs": [
        {
          "output_type": "execute_result",
          "data": {
            "text/plain": [
              "0.15090631827596837"
            ]
          },
          "metadata": {},
          "execution_count": 74
        }
      ]
    }
  ]
}