{
 "cells": [
  {
   "cell_type": "code",
   "execution_count": 1,
   "metadata": {},
   "outputs": [],
   "source": [
    "lista_1 = [\"arroz, frango, tomate, leite\"]"
   ]
  },
  {
   "cell_type": "code",
   "execution_count": 2,
   "metadata": {},
   "outputs": [
    {
     "data": {
      "text/plain": [
       "list"
      ]
     },
     "execution_count": 2,
     "metadata": {},
     "output_type": "execute_result"
    }
   ],
   "source": [
    "type(lista_1)"
   ]
  },
  {
   "cell_type": "code",
   "execution_count": 3,
   "metadata": {},
   "outputs": [
    {
     "name": "stdout",
     "output_type": "stream",
     "text": [
      "['arroz, frango, tomate, leite']\n"
     ]
    }
   ],
   "source": [
    "lista_1\n",
    "print(lista_1)"
   ]
  },
  {
   "cell_type": "code",
   "execution_count": 4,
   "metadata": {},
   "outputs": [],
   "source": [
    "lista_2 = [\"arroz\",\"frango\",\"tomate\",\"leite\"]"
   ]
  },
  {
   "cell_type": "code",
   "execution_count": 5,
   "metadata": {},
   "outputs": [
    {
     "data": {
      "text/plain": [
       "list"
      ]
     },
     "execution_count": 5,
     "metadata": {},
     "output_type": "execute_result"
    }
   ],
   "source": [
    "type(lista_2)"
   ]
  },
  {
   "cell_type": "code",
   "execution_count": 6,
   "metadata": {},
   "outputs": [
    {
     "data": {
      "text/plain": [
       "['arroz', 'frango', 'tomate', 'leite']"
      ]
     },
     "execution_count": 6,
     "metadata": {},
     "output_type": "execute_result"
    }
   ],
   "source": [
    "lista_2"
   ]
  },
  {
   "cell_type": "code",
   "execution_count": 7,
   "metadata": {},
   "outputs": [],
   "source": [
    "lista_3 = [23,100,\"Cientista de Dados\"]"
   ]
  },
  {
   "cell_type": "code",
   "execution_count": 8,
   "metadata": {},
   "outputs": [
    {
     "data": {
      "text/plain": [
       "list"
      ]
     },
     "execution_count": 8,
     "metadata": {},
     "output_type": "execute_result"
    }
   ],
   "source": [
    "type(lista_3)"
   ]
  },
  {
   "cell_type": "code",
   "execution_count": 9,
   "metadata": {},
   "outputs": [
    {
     "data": {
      "text/plain": [
       "[23, 100, 'Cientista de Dados']"
      ]
     },
     "execution_count": 9,
     "metadata": {},
     "output_type": "execute_result"
    }
   ],
   "source": [
    "lista_3"
   ]
  },
  {
   "cell_type": "code",
   "execution_count": 10,
   "metadata": {},
   "outputs": [],
   "source": [
    "item1 = lista_3[0]\n",
    "item2 = lista_3[1]\n",
    "item3 = lista_3[2]"
   ]
  },
  {
   "cell_type": "code",
   "execution_count": 11,
   "metadata": {},
   "outputs": [
    {
     "name": "stdout",
     "output_type": "stream",
     "text": [
      "[23, 100, 'Cientista de Dados']\n"
     ]
    }
   ],
   "source": [
    "print(lista_3)"
   ]
  },
  {
   "cell_type": "code",
   "execution_count": 12,
   "metadata": {},
   "outputs": [
    {
     "data": {
      "text/plain": [
       "['arroz', 'frango', 'tomate', 'leite']"
      ]
     },
     "execution_count": 12,
     "metadata": {},
     "output_type": "execute_result"
    }
   ],
   "source": [
    "lista_2"
   ]
  },
  {
   "cell_type": "code",
   "execution_count": 13,
   "metadata": {},
   "outputs": [
    {
     "data": {
      "text/plain": [
       "'tomate'"
      ]
     },
     "execution_count": 13,
     "metadata": {},
     "output_type": "execute_result"
    }
   ],
   "source": [
    "lista_2[2]"
   ]
  },
  {
   "cell_type": "code",
   "execution_count": 14,
   "metadata": {},
   "outputs": [],
   "source": [
    "lista_2[2] = 'chocolate'"
   ]
  },
  {
   "cell_type": "code",
   "execution_count": 15,
   "metadata": {},
   "outputs": [
    {
     "data": {
      "text/plain": [
       "['arroz', 'frango', 'chocolate', 'leite']"
      ]
     },
     "execution_count": 15,
     "metadata": {},
     "output_type": "execute_result"
    }
   ],
   "source": [
    "lista_2"
   ]
  },
  {
   "cell_type": "code",
   "execution_count": 16,
   "metadata": {},
   "outputs": [],
   "source": [
    "del lista_2[3]"
   ]
  },
  {
   "cell_type": "code",
   "execution_count": 17,
   "metadata": {},
   "outputs": [
    {
     "data": {
      "text/plain": [
       "['arroz', 'frango', 'chocolate']"
      ]
     },
     "execution_count": 17,
     "metadata": {},
     "output_type": "execute_result"
    }
   ],
   "source": [
    "lista_2"
   ]
  },
  {
   "cell_type": "code",
   "execution_count": 18,
   "metadata": {},
   "outputs": [],
   "source": [
    "listas = [ [1,2,3], [10,15,14], [10.1,8.7,2.3] ]"
   ]
  },
  {
   "cell_type": "code",
   "execution_count": 19,
   "metadata": {},
   "outputs": [
    {
     "data": {
      "text/plain": [
       "[[1, 2, 3], [10, 15, 14], [10.1, 8.7, 2.3]]"
      ]
     },
     "execution_count": 19,
     "metadata": {},
     "output_type": "execute_result"
    }
   ],
   "source": [
    "listas"
   ]
  },
  {
   "cell_type": "code",
   "execution_count": 20,
   "metadata": {},
   "outputs": [],
   "source": [
    "a = listas[0]"
   ]
  },
  {
   "cell_type": "code",
   "execution_count": 21,
   "metadata": {},
   "outputs": [
    {
     "data": {
      "text/plain": [
       "[1, 2, 3]"
      ]
     },
     "execution_count": 21,
     "metadata": {},
     "output_type": "execute_result"
    }
   ],
   "source": [
    "a"
   ]
  },
  {
   "cell_type": "code",
   "execution_count": 22,
   "metadata": {},
   "outputs": [],
   "source": [
    "b = a[0]"
   ]
  },
  {
   "cell_type": "code",
   "execution_count": 23,
   "metadata": {},
   "outputs": [
    {
     "data": {
      "text/plain": [
       "1"
      ]
     },
     "execution_count": 23,
     "metadata": {},
     "output_type": "execute_result"
    }
   ],
   "source": [
    "b"
   ]
  },
  {
   "cell_type": "code",
   "execution_count": 24,
   "metadata": {},
   "outputs": [],
   "source": [
    "list1 = listas[1]"
   ]
  },
  {
   "cell_type": "code",
   "execution_count": 25,
   "metadata": {},
   "outputs": [
    {
     "data": {
      "text/plain": [
       "[10, 15, 14]"
      ]
     },
     "execution_count": 25,
     "metadata": {},
     "output_type": "execute_result"
    }
   ],
   "source": [
    "list1"
   ]
  },
  {
   "cell_type": "code",
   "execution_count": 26,
   "metadata": {},
   "outputs": [],
   "source": [
    "valor_1_0 = list1[0]"
   ]
  },
  {
   "cell_type": "code",
   "execution_count": 27,
   "metadata": {},
   "outputs": [
    {
     "data": {
      "text/plain": [
       "10"
      ]
     },
     "execution_count": 27,
     "metadata": {},
     "output_type": "execute_result"
    }
   ],
   "source": [
    "valor_1_0"
   ]
  },
  {
   "cell_type": "code",
   "execution_count": 28,
   "metadata": {},
   "outputs": [],
   "source": [
    "valor_1_2 = list1[2]"
   ]
  },
  {
   "cell_type": "code",
   "execution_count": 29,
   "metadata": {},
   "outputs": [
    {
     "data": {
      "text/plain": [
       "14"
      ]
     },
     "execution_count": 29,
     "metadata": {},
     "output_type": "execute_result"
    }
   ],
   "source": [
    "valor_1_2"
   ]
  },
  {
   "cell_type": "code",
   "execution_count": 30,
   "metadata": {},
   "outputs": [],
   "source": [
    "list2 = listas[2]"
   ]
  },
  {
   "cell_type": "code",
   "execution_count": 31,
   "metadata": {},
   "outputs": [
    {
     "data": {
      "text/plain": [
       "[10.1, 8.7, 2.3]"
      ]
     },
     "execution_count": 31,
     "metadata": {},
     "output_type": "execute_result"
    }
   ],
   "source": [
    "list2"
   ]
  },
  {
   "cell_type": "code",
   "execution_count": 32,
   "metadata": {},
   "outputs": [],
   "source": [
    "valor_2_0 = list2[0]"
   ]
  },
  {
   "cell_type": "code",
   "execution_count": 33,
   "metadata": {},
   "outputs": [
    {
     "data": {
      "text/plain": [
       "10.1"
      ]
     },
     "execution_count": 33,
     "metadata": {},
     "output_type": "execute_result"
    }
   ],
   "source": [
    "valor_2_0"
   ]
  },
  {
   "cell_type": "code",
   "execution_count": 34,
   "metadata": {},
   "outputs": [],
   "source": [
    "listas = [ [1,2,3], [10,15,14], [10.1,8.7,2.3] ]"
   ]
  },
  {
   "cell_type": "code",
   "execution_count": 35,
   "metadata": {},
   "outputs": [
    {
     "data": {
      "text/plain": [
       "[[1, 2, 3], [10, 15, 14], [10.1, 8.7, 2.3]]"
      ]
     },
     "execution_count": 35,
     "metadata": {},
     "output_type": "execute_result"
    }
   ],
   "source": [
    "listas"
   ]
  },
  {
   "cell_type": "code",
   "execution_count": 36,
   "metadata": {},
   "outputs": [],
   "source": [
    "a = listas[0][0]"
   ]
  },
  {
   "cell_type": "code",
   "execution_count": 37,
   "metadata": {},
   "outputs": [
    {
     "data": {
      "text/plain": [
       "1"
      ]
     },
     "execution_count": 37,
     "metadata": {},
     "output_type": "execute_result"
    }
   ],
   "source": [
    "a"
   ]
  },
  {
   "cell_type": "code",
   "execution_count": 38,
   "metadata": {},
   "outputs": [],
   "source": [
    "b = listas[1][2]"
   ]
  },
  {
   "cell_type": "code",
   "execution_count": 39,
   "metadata": {},
   "outputs": [
    {
     "data": {
      "text/plain": [
       "14"
      ]
     },
     "execution_count": 39,
     "metadata": {},
     "output_type": "execute_result"
    }
   ],
   "source": [
    "b"
   ]
  },
  {
   "cell_type": "code",
   "execution_count": 40,
   "metadata": {},
   "outputs": [],
   "source": [
    "c = listas[0][2] + 10"
   ]
  },
  {
   "cell_type": "code",
   "execution_count": 41,
   "metadata": {},
   "outputs": [
    {
     "data": {
      "text/plain": [
       "13"
      ]
     },
     "execution_count": 41,
     "metadata": {},
     "output_type": "execute_result"
    }
   ],
   "source": [
    "c"
   ]
  },
  {
   "cell_type": "code",
   "execution_count": 42,
   "metadata": {},
   "outputs": [],
   "source": [
    "d = 10"
   ]
  },
  {
   "cell_type": "code",
   "execution_count": 43,
   "metadata": {},
   "outputs": [
    {
     "data": {
      "text/plain": [
       "10"
      ]
     },
     "execution_count": 43,
     "metadata": {},
     "output_type": "execute_result"
    }
   ],
   "source": [
    "d"
   ]
  },
  {
   "cell_type": "code",
   "execution_count": 44,
   "metadata": {},
   "outputs": [],
   "source": [
    "e = d * listas[2][0]"
   ]
  },
  {
   "cell_type": "code",
   "execution_count": 45,
   "metadata": {},
   "outputs": [
    {
     "data": {
      "text/plain": [
       "101.0"
      ]
     },
     "execution_count": 45,
     "metadata": {},
     "output_type": "execute_result"
    }
   ],
   "source": [
    "e"
   ]
  },
  {
   "cell_type": "code",
   "execution_count": 46,
   "metadata": {},
   "outputs": [],
   "source": [
    "lista_s1 = [34,32,56]"
   ]
  },
  {
   "cell_type": "code",
   "execution_count": 47,
   "metadata": {},
   "outputs": [
    {
     "data": {
      "text/plain": [
       "[34, 32, 56]"
      ]
     },
     "execution_count": 47,
     "metadata": {},
     "output_type": "execute_result"
    }
   ],
   "source": [
    "lista_s1"
   ]
  },
  {
   "cell_type": "code",
   "execution_count": 48,
   "metadata": {},
   "outputs": [],
   "source": [
    "lista_s2 = [21,90,51]"
   ]
  },
  {
   "cell_type": "code",
   "execution_count": 49,
   "metadata": {},
   "outputs": [
    {
     "data": {
      "text/plain": [
       "[21, 90, 51]"
      ]
     },
     "execution_count": 49,
     "metadata": {},
     "output_type": "execute_result"
    }
   ],
   "source": [
    "lista_s2"
   ]
  },
  {
   "cell_type": "code",
   "execution_count": 50,
   "metadata": {},
   "outputs": [],
   "source": [
    "lista_total = lista_s1 + lista_s2"
   ]
  },
  {
   "cell_type": "code",
   "execution_count": 51,
   "metadata": {},
   "outputs": [
    {
     "data": {
      "text/plain": [
       "[34, 32, 56, 21, 90, 51]"
      ]
     },
     "execution_count": 51,
     "metadata": {},
     "output_type": "execute_result"
    }
   ],
   "source": [
    "lista_total"
   ]
  },
  {
   "cell_type": "code",
   "execution_count": 52,
   "metadata": {},
   "outputs": [],
   "source": [
    "lista_teste_op = [100,2,-5,3.4]"
   ]
  },
  {
   "cell_type": "code",
   "execution_count": 53,
   "metadata": {},
   "outputs": [
    {
     "data": {
      "text/plain": [
       "False"
      ]
     },
     "execution_count": 53,
     "metadata": {},
     "output_type": "execute_result"
    }
   ],
   "source": [
    "10 in lista_teste_op"
   ]
  },
  {
   "cell_type": "code",
   "execution_count": 54,
   "metadata": {},
   "outputs": [
    {
     "data": {
      "text/plain": [
       "True"
      ]
     },
     "execution_count": 54,
     "metadata": {},
     "output_type": "execute_result"
    }
   ],
   "source": [
    "100 in lista_teste_op"
   ]
  },
  {
   "cell_type": "code",
   "execution_count": 55,
   "metadata": {},
   "outputs": [],
   "source": [
    "lista_numeros = [10,20,50,-3.4]"
   ]
  },
  {
   "cell_type": "code",
   "execution_count": 56,
   "metadata": {},
   "outputs": [
    {
     "data": {
      "text/plain": [
       "4"
      ]
     },
     "execution_count": 56,
     "metadata": {},
     "output_type": "execute_result"
    }
   ],
   "source": [
    "len(lista_numeros)"
   ]
  },
  {
   "cell_type": "code",
   "execution_count": 57,
   "metadata": {},
   "outputs": [
    {
     "data": {
      "text/plain": [
       "50"
      ]
     },
     "execution_count": 57,
     "metadata": {},
     "output_type": "execute_result"
    }
   ],
   "source": [
    "max(lista_numeros)"
   ]
  },
  {
   "cell_type": "code",
   "execution_count": 58,
   "metadata": {},
   "outputs": [
    {
     "data": {
      "text/plain": [
       "-3.4"
      ]
     },
     "execution_count": 58,
     "metadata": {},
     "output_type": "execute_result"
    }
   ],
   "source": [
    "min(lista_numeros)"
   ]
  },
  {
   "cell_type": "code",
   "execution_count": 59,
   "metadata": {},
   "outputs": [],
   "source": [
    "lista_formacoes_dsa = [\"Analista de Dados\",\"Cientista de Dados\",\"Engenheiro de Dados\"]"
   ]
  },
  {
   "cell_type": "code",
   "execution_count": 60,
   "metadata": {},
   "outputs": [
    {
     "data": {
      "text/plain": [
       "['Analista de Dados', 'Cientista de Dados', 'Engenheiro de Dados']"
      ]
     },
     "execution_count": 60,
     "metadata": {},
     "output_type": "execute_result"
    }
   ],
   "source": [
    "lista_formacoes_dsa"
   ]
  },
  {
   "cell_type": "code",
   "execution_count": 61,
   "metadata": {},
   "outputs": [],
   "source": [
    "lista_formacoes_dsa.append(\"Engenheiro de IA\")"
   ]
  },
  {
   "cell_type": "code",
   "execution_count": 62,
   "metadata": {},
   "outputs": [
    {
     "data": {
      "text/plain": [
       "['Analista de Dados',\n",
       " 'Cientista de Dados',\n",
       " 'Engenheiro de Dados',\n",
       " 'Engenheiro de IA']"
      ]
     },
     "execution_count": 62,
     "metadata": {},
     "output_type": "execute_result"
    }
   ],
   "source": [
    "lista_formacoes_dsa"
   ]
  },
  {
   "cell_type": "code",
   "execution_count": 63,
   "metadata": {},
   "outputs": [],
   "source": [
    "lista_formacoes_dsa.append(\"Engenheiro de IA\")"
   ]
  },
  {
   "cell_type": "code",
   "execution_count": 64,
   "metadata": {},
   "outputs": [
    {
     "data": {
      "text/plain": [
       "['Analista de Dados',\n",
       " 'Cientista de Dados',\n",
       " 'Engenheiro de Dados',\n",
       " 'Engenheiro de IA',\n",
       " 'Engenheiro de IA']"
      ]
     },
     "execution_count": 64,
     "metadata": {},
     "output_type": "execute_result"
    }
   ],
   "source": [
    "lista_formacoes_dsa"
   ]
  },
  {
   "cell_type": "code",
   "execution_count": 65,
   "metadata": {},
   "outputs": [
    {
     "data": {
      "text/plain": [
       "2"
      ]
     },
     "execution_count": 65,
     "metadata": {},
     "output_type": "execute_result"
    }
   ],
   "source": [
    "lista_formacoes_dsa.count(\"Engenheiro de IA\")"
   ]
  },
  {
   "cell_type": "code",
   "execution_count": 66,
   "metadata": {},
   "outputs": [],
   "source": [
    "a = []"
   ]
  },
  {
   "cell_type": "code",
   "execution_count": 67,
   "metadata": {},
   "outputs": [
    {
     "data": {
      "text/plain": [
       "[]"
      ]
     },
     "execution_count": 67,
     "metadata": {},
     "output_type": "execute_result"
    }
   ],
   "source": [
    "a"
   ]
  },
  {
   "cell_type": "code",
   "execution_count": 68,
   "metadata": {},
   "outputs": [
    {
     "data": {
      "text/plain": [
       "list"
      ]
     },
     "execution_count": 68,
     "metadata": {},
     "output_type": "execute_result"
    }
   ],
   "source": [
    "type(a)"
   ]
  },
  {
   "cell_type": "code",
   "execution_count": 69,
   "metadata": {},
   "outputs": [],
   "source": [
    "a.append(10)"
   ]
  },
  {
   "cell_type": "code",
   "execution_count": 70,
   "metadata": {},
   "outputs": [
    {
     "data": {
      "text/plain": [
       "[10]"
      ]
     },
     "execution_count": 70,
     "metadata": {},
     "output_type": "execute_result"
    }
   ],
   "source": [
    "a"
   ]
  },
  {
   "cell_type": "code",
   "execution_count": 71,
   "metadata": {},
   "outputs": [],
   "source": [
    "a.append(50)"
   ]
  },
  {
   "cell_type": "code",
   "execution_count": 72,
   "metadata": {},
   "outputs": [
    {
     "data": {
      "text/plain": [
       "[10, 50]"
      ]
     },
     "execution_count": 72,
     "metadata": {},
     "output_type": "execute_result"
    }
   ],
   "source": [
    "a"
   ]
  },
  {
   "cell_type": "code",
   "execution_count": 73,
   "metadata": {},
   "outputs": [],
   "source": [
    "old_list = [1,2,5,10]"
   ]
  },
  {
   "cell_type": "code",
   "execution_count": 74,
   "metadata": {},
   "outputs": [],
   "source": [
    "new_list = []"
   ]
  },
  {
   "cell_type": "code",
   "execution_count": 75,
   "metadata": {},
   "outputs": [],
   "source": [
    "for item in old_list:\n",
    "    new_list.append(item)"
   ]
  },
  {
   "cell_type": "code",
   "execution_count": 76,
   "metadata": {},
   "outputs": [
    {
     "data": {
      "text/plain": [
       "[1, 2, 5, 10]"
      ]
     },
     "execution_count": 76,
     "metadata": {},
     "output_type": "execute_result"
    }
   ],
   "source": [
    "new_list"
   ]
  },
  {
   "cell_type": "code",
   "execution_count": 77,
   "metadata": {},
   "outputs": [],
   "source": [
    "cidades = [\"Recife\",\"Manaus\",\"Salvador\"]\n",
    "cidades.extend([\"Fortaleza\",\"Palmas\"])"
   ]
  },
  {
   "cell_type": "code",
   "execution_count": 78,
   "metadata": {},
   "outputs": [
    {
     "data": {
      "text/plain": [
       "['Recife', 'Manaus', 'Salvador', 'Fortaleza', 'Palmas']"
      ]
     },
     "execution_count": 78,
     "metadata": {},
     "output_type": "execute_result"
    }
   ],
   "source": [
    "cidades"
   ]
  },
  {
   "cell_type": "code",
   "execution_count": 79,
   "metadata": {},
   "outputs": [
    {
     "data": {
      "text/plain": [
       "2"
      ]
     },
     "execution_count": 79,
     "metadata": {},
     "output_type": "execute_result"
    }
   ],
   "source": [
    "cidades.index(\"Salvador\")"
   ]
  },
  {
   "cell_type": "code",
   "execution_count": 80,
   "metadata": {},
   "outputs": [
    {
     "ename": "ValueError",
     "evalue": "'Rio de Janeiro' is not in list",
     "output_type": "error",
     "traceback": [
      "\u001b[1;31m---------------------------------------------------------------------------\u001b[0m",
      "\u001b[1;31mValueError\u001b[0m                                Traceback (most recent call last)",
      "Cell \u001b[1;32mIn[80], line 1\u001b[0m\n\u001b[1;32m----> 1\u001b[0m cidades\u001b[39m.\u001b[39mindex(\u001b[39m\"\u001b[39m\u001b[39mRio de Janeiro\u001b[39m\u001b[39m\"\u001b[39m)\n",
      "\u001b[1;31mValueError\u001b[0m: 'Rio de Janeiro' is not in list"
     ]
    }
   ],
   "source": [
    "cidades.index(\"Rio de Janeiro\")"
   ]
  },
  {
   "cell_type": "code",
   "execution_count": null,
   "metadata": {},
   "outputs": [
    {
     "data": {
      "text/plain": [
       "['Recife', 'Manaus', 'Salvador', 'Fortaleza', 'Palmas']"
      ]
     },
     "execution_count": 116,
     "metadata": {},
     "output_type": "execute_result"
    }
   ],
   "source": [
    "cidades"
   ]
  },
  {
   "cell_type": "code",
   "execution_count": null,
   "metadata": {},
   "outputs": [],
   "source": [
    "cidades.insert(2,110)"
   ]
  },
  {
   "cell_type": "code",
   "execution_count": null,
   "metadata": {},
   "outputs": [
    {
     "data": {
      "text/plain": [
       "['Recife', 'Manaus', 110, 'Salvador', 'Fortaleza', 'Palmas']"
      ]
     },
     "execution_count": 118,
     "metadata": {},
     "output_type": "execute_result"
    }
   ],
   "source": [
    "cidades"
   ]
  },
  {
   "cell_type": "code",
   "execution_count": null,
   "metadata": {},
   "outputs": [],
   "source": [
    "cidades.remove(110)"
   ]
  },
  {
   "cell_type": "code",
   "execution_count": null,
   "metadata": {},
   "outputs": [
    {
     "data": {
      "text/plain": [
       "['Recife', 'Manaus', 'Salvador', 'Fortaleza', 'Palmas']"
      ]
     },
     "execution_count": 120,
     "metadata": {},
     "output_type": "execute_result"
    }
   ],
   "source": [
    "cidades"
   ]
  },
  {
   "cell_type": "code",
   "execution_count": null,
   "metadata": {},
   "outputs": [],
   "source": [
    "cidades.reverse()"
   ]
  },
  {
   "cell_type": "code",
   "execution_count": null,
   "metadata": {},
   "outputs": [
    {
     "data": {
      "text/plain": [
       "['Palmas', 'Fortaleza', 'Salvador', 'Manaus', 'Recife']"
      ]
     },
     "execution_count": 122,
     "metadata": {},
     "output_type": "execute_result"
    }
   ],
   "source": [
    "cidades"
   ]
  },
  {
   "cell_type": "code",
   "execution_count": null,
   "metadata": {},
   "outputs": [],
   "source": [
    "x = [3,4,2,1]"
   ]
  },
  {
   "cell_type": "code",
   "execution_count": null,
   "metadata": {},
   "outputs": [],
   "source": [
    "x.sort()"
   ]
  },
  {
   "cell_type": "code",
   "execution_count": null,
   "metadata": {},
   "outputs": [
    {
     "data": {
      "text/plain": [
       "[1, 2, 3, 4]"
      ]
     },
     "execution_count": 125,
     "metadata": {},
     "output_type": "execute_result"
    }
   ],
   "source": [
    "x"
   ]
  },
  {
   "cell_type": "code",
   "execution_count": null,
   "metadata": {},
   "outputs": [],
   "source": [
    "estudantes_lst = [\"Pedro\",24,\"Ana\",22,\"Ronaldo\",26,\"Janaina\",25]"
   ]
  },
  {
   "cell_type": "code",
   "execution_count": null,
   "metadata": {},
   "outputs": [
    {
     "data": {
      "text/plain": [
       "['Pedro', 24, 'Ana', 22, 'Ronaldo', 26, 'Janaina', 25]"
      ]
     },
     "execution_count": 127,
     "metadata": {},
     "output_type": "execute_result"
    }
   ],
   "source": [
    "estudantes_lst"
   ]
  },
  {
   "cell_type": "code",
   "execution_count": null,
   "metadata": {},
   "outputs": [
    {
     "data": {
      "text/plain": [
       "list"
      ]
     },
     "execution_count": 128,
     "metadata": {},
     "output_type": "execute_result"
    }
   ],
   "source": [
    "type(estudantes_lst)"
   ]
  },
  {
   "cell_type": "code",
   "execution_count": null,
   "metadata": {},
   "outputs": [],
   "source": [
    "estudantes_dict = {\"Pedro\":24,\"Ana\":22,\"Ronaldo\":26,\"Janaina\":25}"
   ]
  },
  {
   "cell_type": "code",
   "execution_count": null,
   "metadata": {},
   "outputs": [
    {
     "data": {
      "text/plain": [
       "{'Pedro': 24, 'Ana': 22, 'Ronaldo': 26, 'Janaina': 25}"
      ]
     },
     "execution_count": 133,
     "metadata": {},
     "output_type": "execute_result"
    }
   ],
   "source": [
    "estudantes_dict"
   ]
  },
  {
   "cell_type": "code",
   "execution_count": null,
   "metadata": {},
   "outputs": [
    {
     "data": {
      "text/plain": [
       "24"
      ]
     },
     "execution_count": 134,
     "metadata": {},
     "output_type": "execute_result"
    }
   ],
   "source": [
    "estudantes_dict[\"Pedro\"]"
   ]
  },
  {
   "cell_type": "code",
   "execution_count": null,
   "metadata": {},
   "outputs": [
    {
     "data": {
      "text/plain": [
       "dict"
      ]
     },
     "execution_count": 135,
     "metadata": {},
     "output_type": "execute_result"
    }
   ],
   "source": [
    "type(estudantes_dict)"
   ]
  },
  {
   "cell_type": "code",
   "execution_count": null,
   "metadata": {},
   "outputs": [],
   "source": [
    "estudantes_dict[\"Marcelo\"] = 23"
   ]
  },
  {
   "cell_type": "code",
   "execution_count": null,
   "metadata": {},
   "outputs": [
    {
     "data": {
      "text/plain": [
       "{'Pedro': 24, 'Ana': 22, 'Ronaldo': 26, 'Janaina': 25, 'Marcelo': 23}"
      ]
     },
     "execution_count": 137,
     "metadata": {},
     "output_type": "execute_result"
    }
   ],
   "source": [
    "estudantes_dict"
   ]
  },
  {
   "cell_type": "code",
   "execution_count": null,
   "metadata": {},
   "outputs": [],
   "source": [
    "estudantes_dict.clear()"
   ]
  },
  {
   "cell_type": "code",
   "execution_count": null,
   "metadata": {},
   "outputs": [
    {
     "data": {
      "text/plain": [
       "{}"
      ]
     },
     "execution_count": 139,
     "metadata": {},
     "output_type": "execute_result"
    }
   ],
   "source": [
    "estudantes_dict"
   ]
  },
  {
   "cell_type": "code",
   "execution_count": null,
   "metadata": {},
   "outputs": [],
   "source": [
    "del estudantes_dict"
   ]
  },
  {
   "cell_type": "code",
   "execution_count": null,
   "metadata": {},
   "outputs": [
    {
     "ename": "NameError",
     "evalue": "name 'estudantes_dict' is not defined",
     "output_type": "error",
     "traceback": [
      "\u001b[1;31m---------------------------------------------------------------------------\u001b[0m",
      "\u001b[1;31mNameError\u001b[0m                                 Traceback (most recent call last)",
      "Cell \u001b[1;32mIn[141], line 1\u001b[0m\n\u001b[1;32m----> 1\u001b[0m estudantes_dict\n",
      "\u001b[1;31mNameError\u001b[0m: name 'estudantes_dict' is not defined"
     ]
    }
   ],
   "source": [
    "estudantes_dict"
   ]
  },
  {
   "cell_type": "code",
   "execution_count": null,
   "metadata": {},
   "outputs": [],
   "source": [
    "estudantes = {\"Pedro\":24,\"Ana\":22,\"Ronaldo\":26,\"Janaina\":25}"
   ]
  },
  {
   "cell_type": "code",
   "execution_count": null,
   "metadata": {},
   "outputs": [
    {
     "data": {
      "text/plain": [
       "{'Pedro': 24, 'Ana': 22, 'Ronaldo': 26, 'Janaina': 25}"
      ]
     },
     "execution_count": 143,
     "metadata": {},
     "output_type": "execute_result"
    }
   ],
   "source": [
    "estudantes"
   ]
  },
  {
   "cell_type": "code",
   "execution_count": null,
   "metadata": {},
   "outputs": [
    {
     "data": {
      "text/plain": [
       "4"
      ]
     },
     "execution_count": 144,
     "metadata": {},
     "output_type": "execute_result"
    }
   ],
   "source": [
    "len(estudantes)"
   ]
  },
  {
   "cell_type": "code",
   "execution_count": null,
   "metadata": {},
   "outputs": [
    {
     "data": {
      "text/plain": [
       "dict_keys(['Pedro', 'Ana', 'Ronaldo', 'Janaina'])"
      ]
     },
     "execution_count": 145,
     "metadata": {},
     "output_type": "execute_result"
    }
   ],
   "source": [
    "estudantes.keys()"
   ]
  },
  {
   "cell_type": "code",
   "execution_count": null,
   "metadata": {},
   "outputs": [
    {
     "data": {
      "text/plain": [
       "dict_values([24, 22, 26, 25])"
      ]
     },
     "execution_count": 146,
     "metadata": {},
     "output_type": "execute_result"
    }
   ],
   "source": [
    "estudantes.values()"
   ]
  },
  {
   "cell_type": "code",
   "execution_count": null,
   "metadata": {},
   "outputs": [
    {
     "data": {
      "text/plain": [
       "dict_items([('Pedro', 24), ('Ana', 22), ('Ronaldo', 26), ('Janaina', 25)])"
      ]
     },
     "execution_count": 147,
     "metadata": {},
     "output_type": "execute_result"
    }
   ],
   "source": [
    "estudantes.items()"
   ]
  },
  {
   "cell_type": "code",
   "execution_count": null,
   "metadata": {},
   "outputs": [],
   "source": [
    "estudantes2 = {\"Camila\":27,\"Adriana\":28,\"Roberta\":26}"
   ]
  },
  {
   "cell_type": "code",
   "execution_count": null,
   "metadata": {},
   "outputs": [
    {
     "data": {
      "text/plain": [
       "{'Camila': 27, 'Adriana': 28, 'Roberta': 26}"
      ]
     },
     "execution_count": 149,
     "metadata": {},
     "output_type": "execute_result"
    }
   ],
   "source": [
    "estudantes2"
   ]
  },
  {
   "cell_type": "code",
   "execution_count": null,
   "metadata": {},
   "outputs": [],
   "source": [
    "estudantes.update(estudantes2)"
   ]
  },
  {
   "cell_type": "code",
   "execution_count": null,
   "metadata": {},
   "outputs": [
    {
     "data": {
      "text/plain": [
       "{'Pedro': 24,\n",
       " 'Ana': 22,\n",
       " 'Ronaldo': 26,\n",
       " 'Janaina': 25,\n",
       " 'Camila': 27,\n",
       " 'Adriana': 28,\n",
       " 'Roberta': 26}"
      ]
     },
     "execution_count": 151,
     "metadata": {},
     "output_type": "execute_result"
    }
   ],
   "source": [
    "estudantes"
   ]
  },
  {
   "cell_type": "code",
   "execution_count": null,
   "metadata": {},
   "outputs": [],
   "source": [
    "dic1 = {}"
   ]
  },
  {
   "cell_type": "code",
   "execution_count": null,
   "metadata": {},
   "outputs": [
    {
     "data": {
      "text/plain": [
       "{}"
      ]
     },
     "execution_count": 153,
     "metadata": {},
     "output_type": "execute_result"
    }
   ],
   "source": [
    "dic1"
   ]
  },
  {
   "cell_type": "code",
   "execution_count": null,
   "metadata": {},
   "outputs": [],
   "source": [
    "dic1[\"chave_um\"] = 2"
   ]
  },
  {
   "cell_type": "code",
   "execution_count": null,
   "metadata": {},
   "outputs": [
    {
     "name": "stdout",
     "output_type": "stream",
     "text": [
      "{'chave_um': 2}\n"
     ]
    }
   ],
   "source": [
    "print(dic1)"
   ]
  },
  {
   "cell_type": "code",
   "execution_count": null,
   "metadata": {},
   "outputs": [],
   "source": [
    "dic1[10] = 5"
   ]
  },
  {
   "cell_type": "code",
   "execution_count": null,
   "metadata": {},
   "outputs": [
    {
     "data": {
      "text/plain": [
       "{'chave_um': 2, 10: 5}"
      ]
     },
     "execution_count": 157,
     "metadata": {},
     "output_type": "execute_result"
    }
   ],
   "source": [
    "dic1"
   ]
  },
  {
   "cell_type": "code",
   "execution_count": null,
   "metadata": {},
   "outputs": [],
   "source": [
    "dic1[9.13] = \"Python\""
   ]
  },
  {
   "cell_type": "code",
   "execution_count": null,
   "metadata": {},
   "outputs": [
    {
     "data": {
      "text/plain": [
       "{'chave_um': 2, 10: 5, 9.13: 'Python'}"
      ]
     },
     "execution_count": 159,
     "metadata": {},
     "output_type": "execute_result"
    }
   ],
   "source": [
    "dic1"
   ]
  },
  {
   "cell_type": "code",
   "execution_count": null,
   "metadata": {},
   "outputs": [],
   "source": [
    "dic1[\"teste\"] = 5"
   ]
  },
  {
   "cell_type": "code",
   "execution_count": null,
   "metadata": {},
   "outputs": [
    {
     "data": {
      "text/plain": [
       "{'chave_um': 2, 10: 5, 9.13: 'Python', 'teste': 5}"
      ]
     },
     "execution_count": 161,
     "metadata": {},
     "output_type": "execute_result"
    }
   ],
   "source": [
    "dic1"
   ]
  },
  {
   "cell_type": "code",
   "execution_count": null,
   "metadata": {},
   "outputs": [],
   "source": [
    "dict1 = {}"
   ]
  },
  {
   "cell_type": "code",
   "execution_count": null,
   "metadata": {},
   "outputs": [
    {
     "data": {
      "text/plain": [
       "{}"
      ]
     },
     "execution_count": 163,
     "metadata": {},
     "output_type": "execute_result"
    }
   ],
   "source": [
    "dict1"
   ]
  },
  {
   "cell_type": "code",
   "execution_count": null,
   "metadata": {},
   "outputs": [],
   "source": [
    "dict1[\"teste\"] = 10"
   ]
  },
  {
   "cell_type": "code",
   "execution_count": null,
   "metadata": {},
   "outputs": [],
   "source": [
    "dict1[\"key\"] = \"teste\""
   ]
  },
  {
   "cell_type": "code",
   "execution_count": null,
   "metadata": {},
   "outputs": [
    {
     "data": {
      "text/plain": [
       "{'teste': 10, 'key': 'teste'}"
      ]
     },
     "execution_count": 166,
     "metadata": {},
     "output_type": "execute_result"
    }
   ],
   "source": [
    "dict1"
   ]
  },
  {
   "cell_type": "code",
   "execution_count": null,
   "metadata": {},
   "outputs": [],
   "source": [
    "dict2={}"
   ]
  },
  {
   "cell_type": "code",
   "execution_count": null,
   "metadata": {},
   "outputs": [],
   "source": [
    "dict2[\"key1\"] = \"Data Science\""
   ]
  },
  {
   "cell_type": "code",
   "execution_count": null,
   "metadata": {},
   "outputs": [],
   "source": [
    "dict2[\"key2\"] = 10"
   ]
  },
  {
   "cell_type": "code",
   "execution_count": null,
   "metadata": {},
   "outputs": [],
   "source": [
    "dict2[\"key3\"] = 100"
   ]
  },
  {
   "cell_type": "code",
   "execution_count": null,
   "metadata": {},
   "outputs": [
    {
     "data": {
      "text/plain": [
       "{'key1': 'Data Science', 'key2': 10, 'key3': 100}"
      ]
     },
     "execution_count": 182,
     "metadata": {},
     "output_type": "execute_result"
    }
   ],
   "source": [
    "dict2"
   ]
  },
  {
   "cell_type": "code",
   "execution_count": null,
   "metadata": {},
   "outputs": [],
   "source": [
    "a  = dict2[\"key1\"]"
   ]
  },
  {
   "cell_type": "code",
   "execution_count": null,
   "metadata": {},
   "outputs": [],
   "source": [
    "b = dict2[\"key2\"]"
   ]
  },
  {
   "cell_type": "code",
   "execution_count": null,
   "metadata": {},
   "outputs": [],
   "source": [
    "c = dict2[\"key3\"]"
   ]
  },
  {
   "cell_type": "code",
   "execution_count": null,
   "metadata": {},
   "outputs": [
    {
     "data": {
      "text/plain": [
       "('Data Science', 10, 100)"
      ]
     },
     "execution_count": 186,
     "metadata": {},
     "output_type": "execute_result"
    }
   ],
   "source": [
    "a,b,c"
   ]
  },
  {
   "cell_type": "code",
   "execution_count": null,
   "metadata": {},
   "outputs": [],
   "source": [
    "dict3 = {'chave1':1230,'chave2':[22,453,73.4],'chave3':['picanha','fraldinha','alcatra']}"
   ]
  },
  {
   "cell_type": "code",
   "execution_count": null,
   "metadata": {},
   "outputs": [
    {
     "data": {
      "text/plain": [
       "{'chave1': 1230,\n",
       " 'chave2': [22, 453, 73.4],\n",
       " 'chave3': ['picanha', 'fraldinha', 'alcatra']}"
      ]
     },
     "execution_count": 188,
     "metadata": {},
     "output_type": "execute_result"
    }
   ],
   "source": [
    "dict3"
   ]
  },
  {
   "cell_type": "code",
   "execution_count": null,
   "metadata": {},
   "outputs": [
    {
     "data": {
      "text/plain": [
       "[22, 453, 73.4]"
      ]
     },
     "execution_count": 189,
     "metadata": {},
     "output_type": "execute_result"
    }
   ],
   "source": [
    "dict3['chave2']"
   ]
  },
  {
   "cell_type": "code",
   "execution_count": null,
   "metadata": {},
   "outputs": [
    {
     "data": {
      "text/plain": [
       "'PICANHA'"
      ]
     },
     "execution_count": 191,
     "metadata": {},
     "output_type": "execute_result"
    }
   ],
   "source": [
    "dict3['chave3'][0].upper()"
   ]
  },
  {
   "cell_type": "code",
   "execution_count": null,
   "metadata": {},
   "outputs": [],
   "source": [
    "var1 = dict3['chave2'][0] - 2"
   ]
  },
  {
   "cell_type": "code",
   "execution_count": null,
   "metadata": {},
   "outputs": [
    {
     "data": {
      "text/plain": [
       "20"
      ]
     },
     "execution_count": 194,
     "metadata": {},
     "output_type": "execute_result"
    }
   ],
   "source": [
    "var1"
   ]
  },
  {
   "cell_type": "code",
   "execution_count": null,
   "metadata": {},
   "outputs": [],
   "source": [
    "dict3['chave2'][0] -=2"
   ]
  },
  {
   "cell_type": "code",
   "execution_count": null,
   "metadata": {},
   "outputs": [
    {
     "data": {
      "text/plain": [
       "{'chave1': 1230,\n",
       " 'chave2': [20, 453, 73.4],\n",
       " 'chave3': ['picanha', 'fraldinha', 'alcatra']}"
      ]
     },
     "execution_count": 196,
     "metadata": {},
     "output_type": "execute_result"
    }
   ],
   "source": [
    "dict3"
   ]
  },
  {
   "cell_type": "code",
   "execution_count": null,
   "metadata": {},
   "outputs": [
    {
     "name": "stdout",
     "output_type": "stream",
     "text": [
      "oi\n"
     ]
    }
   ],
   "source": [
    "print(\"oi\")"
   ]
  },
  {
   "cell_type": "code",
   "execution_count": null,
   "metadata": {},
   "outputs": [
    {
     "name": "stdout",
     "output_type": "stream",
     "text": [
      "O faturamento foi de 1000 e o lucro foi de 600\n",
      "O faturamento foi de 1000 e o lucro foi de 600\n"
     ]
    }
   ],
   "source": [
    "faturamento = 1000\n",
    "custo = 400\n",
    "\n",
    "lucro = faturamento - custo\n",
    "\n",
    "# com format\n",
    "print(\"O faturamento foi de {} e o lucro foi de {}\".format(faturamento,lucro))\n",
    "\n",
    "# com f-string\n",
    "print(f\"O faturamento foi de {faturamento} e o lucro foi de {lucro}\")\n"
   ]
  },
  {
   "cell_type": "code",
   "execution_count": null,
   "metadata": {},
   "outputs": [
    {
     "name": "stdout",
     "output_type": "stream",
     "text": [
      "<class 'float'>\n",
      "<class 'float'>\n",
      "O lucro foi de 599.95 reais\n"
     ]
    }
   ],
   "source": [
    "faturamento = float(input(\"Insira o faturamento\"))\n",
    "custo = float(input(\"Insira o custo\"))\n",
    "\n",
    "print(type(faturamento))\n",
    "print(type(custo))\n",
    "\n",
    "lucro = faturamento - custo\n",
    "\n",
    "print(f\"O lucro foi de {lucro} reais\")"
   ]
  },
  {
   "cell_type": "code",
   "execution_count": null,
   "metadata": {},
   "outputs": [
    {
     "name": "stdout",
     "output_type": "stream",
     "text": [
      "Fim do programa\n"
     ]
    }
   ],
   "source": [
    "meta = 50000\n",
    "qtd_vendida = 30000\n",
    "\n",
    "if qtd_vendida >= meta:\n",
    "    print(\"Batemos a meta de vendas de Iphone, vendemos {} unidades\". format(qtd_vendida))\n",
    "print(\"Fim do programa\")"
   ]
  },
  {
   "cell_type": "code",
   "execution_count": null,
   "metadata": {},
   "outputs": [
    {
     "name": "stdout",
     "output_type": "stream",
     "text": [
      "Batemos a meta de vendas; 65300 unidades\n"
     ]
    }
   ],
   "source": [
    "meta = 50000\n",
    "qtde_vendida = 65300\n",
    "\n",
    "if qtde_vendida >= meta:\n",
    "    print(\"Batemos a meta de vendas; {} unidades\".format(qtde_vendida))\n",
    "else:\n",
    "    print(\"A meta não foi batida. Vendemos {} unidades.\".format(qtde_vendida))"
   ]
  },
  {
   "cell_type": "markdown",
   "metadata": {},
   "source": [
    "if condicao:\n",
    "\n",
    "elif condicao_2:\n",
    "\n",
    "else:\n",
    "\n",
    "#end"
   ]
  },
  {
   "cell_type": "code",
   "execution_count": null,
   "metadata": {},
   "outputs": [
    {
     "name": "stdout",
     "output_type": "stream",
     "text": [
      "Não ganhou bônus\n"
     ]
    }
   ],
   "source": [
    "meta = 20000\n",
    "vendas = 15000\n",
    "\n",
    "if vendas < meta:\n",
    "    print(\"Não ganhou bônus\")\n",
    "elif vendas > (meta * 2):\n",
    "    bonus = 0.07 * vendas\n",
    "    print(\"Ganhou {} de bônus\".format(bonus))\n",
    "else:\n",
    "    bonus = 0.03 * vendas\n",
    "    print(\"Ganhou {} de bônus\".format(bonus))"
   ]
  },
  {
   "cell_type": "code",
   "execution_count": null,
   "metadata": {},
   "outputs": [
    {
     "name": "stdout",
     "output_type": "stream",
     "text": [
      "Programa 1\n",
      "Os faturamentos são diferentes\n"
     ]
    }
   ],
   "source": [
    "faturamento_loja1 = 2500\n",
    "faturamento_loja2 = 2200\n",
    "email = \"liragmail.com\"\n",
    "\n",
    "print(\"Programa 1\")\n",
    "if faturamento_loja1 == faturamento_loja2:\n",
    "    print(\"Os faturamentos são iguais\")\n",
    "else:\n",
    "    print(\"Os faturamentos são diferentes\")"
   ]
  },
  {
   "cell_type": "code",
   "execution_count": null,
   "metadata": {},
   "outputs": [
    {
     "name": "stdout",
     "output_type": "stream",
     "text": [
      "Programa2\n",
      "Esse não é o email do Lira\n"
     ]
    }
   ],
   "source": [
    "print(\"Programa2\")\n",
    "if email != \"lira@gmail.com\":\n",
    "    print(\"Esse não é o email do Lira\")\n",
    "else:\n",
    "    print(\"Email errado\")"
   ]
  },
  {
   "cell_type": "code",
   "execution_count": null,
   "metadata": {},
   "outputs": [
    {
     "name": "stdout",
     "output_type": "stream",
     "text": [
      "Programa 3\n",
      "Email Inválido\n"
     ]
    }
   ],
   "source": [
    "print(\"Programa 3\")\n",
    "email_usuario = input(\"Insira seu e-mail:\")\n",
    "if not \"@\" in email_usuario:\n",
    "    print(\"Email Inválido\")\n",
    "else:\n",
    "    pass"
   ]
  },
  {
   "cell_type": "code",
   "execution_count": null,
   "metadata": {},
   "outputs": [
    {
     "name": "stdout",
     "output_type": "stream",
     "text": [
      "Bônus do funcionário foi de 450.0\n"
     ]
    }
   ],
   "source": [
    "meta_funcionario = 10000\n",
    "meta_loja = 250000\n",
    "vendas_funcionario = 15000 # trocar valores\n",
    "vendas_loja = 280000 # trocar valores\n",
    "\n",
    "if vendas_funcionario > meta_funcionario and vendas_loja > meta_loja:\n",
    "    bonus = 0.03 * vendas_funcionario\n",
    "    print(\"Bônus do funcionário foi de {}\".format(bonus))\n",
    "else:\n",
    "    print(\"Funcionário não ganhou bônus\")"
   ]
  },
  {
   "cell_type": "code",
   "execution_count": null,
   "metadata": {},
   "outputs": [
    {
     "name": "stdout",
     "output_type": "stream",
     "text": [
      "Bônus do funcionário foi de 450.0\n"
     ]
    }
   ],
   "source": [
    "nota_funcionario = 5\n",
    "meta_nota = 9\n",
    "\n",
    "if nota_funcionario >= meta_nota or (vendas_funcionario > meta_funcionario and vendas_loja > meta_loja):\n",
    "    bonus = .03 * vendas_funcionario\n",
    "    print(\"Bônus do funcionário foi de {}\".format(bonus))\n",
    "else:\n",
    "    print(\"Funcionário não ganhou bônus\")"
   ]
  },
  {
   "cell_type": "code",
   "execution_count": null,
   "metadata": {},
   "outputs": [
    {
     "name": "stdout",
     "output_type": "stream",
     "text": [
      "O funcionário 1 ganhou 100.0 de bônus\n"
     ]
    }
   ],
   "source": [
    "vendas_funcionario1 = 1000\n",
    "vendas_funcionario2 = 770\n",
    "vendas_funcionario3 = 2700\n",
    "\n",
    "vendas = 1000\n",
    "\n",
    "if vendas_funcionario1 >= 1000:\n",
    "    print(\"O funcionário 1 ganhou {} de bônus\".format(vendas_funcionario1 * .1))\n",
    "else:\n",
    "    print(\"O funcionário 1 ganhou 0 de bônus\")\n",
    "if vendas_funcionario2 >= 1000:\n",
    "    print(\"O funcionário 2 ganhou {} de bônus\".format(vendas_funcionario2 * .1))\n",
    "else:\n",
    "    print(\"O funcionário 1 ganhou 0 de bônus\")\n",
    "\n"
   ]
  },
  {
   "cell_type": "code",
   "execution_count": null,
   "metadata": {},
   "outputs": [
    {
     "name": "stdout",
     "output_type": "stream",
     "text": [
      "Solicitar dolly à equipe de compras, temos apenas 50 unidades em estoque\n"
     ]
    }
   ],
   "source": [
    "produto = input(\"Qual o produto?\")\n",
    "categoria = input(\"Qual a categoria do produto?\")\n",
    "qtde = int(input(\"Qual a quantidade atual do produto?\"))\n",
    "\n",
    "if produto and categoria and qtde:\n",
    "    if categoria == \"bebidas\":\n",
    "        if qtde < 75:\n",
    "            print(\"Solicitar {} à equipe de compras, temos apenas {} unidades em estoque\".format(produto,qtde))\n",
    "    elif categoria == \"limpeza\":\n",
    "        if qtde < 30:\n",
    "            print(\"Solicitar {} à equipe de compras, temos apenas {} unidades em estoque\".format(produto,qtde))\n",
    "    else:\n",
    "        if qtde < 50:\n",
    "            print(\"Solicitar {} à equipe de compras, temos apenas {} unidades em estoque\".format(produto,qtde))\n",
    "else:\n",
    "    print(\"Preencha todas as informações\")"
   ]
  },
  {
   "cell_type": "code",
   "execution_count": null,
   "metadata": {},
   "outputs": [],
   "source": [
    "faturamento = 2000\n",
    "custo = 500\n",
    "lucro = faturamento - custo"
   ]
  },
  {
   "cell_type": "code",
   "execution_count": null,
   "metadata": {},
   "outputs": [
    {
     "name": "stdout",
     "output_type": "stream",
     "text": [
      "O faturamento da loja foi de: 2000\n"
     ]
    }
   ],
   "source": [
    "print(\"O faturamento da loja foi de: \" + str(faturamento))"
   ]
  },
  {
   "cell_type": "code",
   "execution_count": null,
   "metadata": {},
   "outputs": [
    {
     "name": "stdout",
     "output_type": "stream",
     "text": [
      "O faturamento foi de 2000. O custo foi de 500 e o Lucro foi de 1500\n"
     ]
    }
   ],
   "source": [
    "print(\"O faturamento foi de {}. O custo foi de {} e o Lucro foi de {}\".format(faturamento,custo,lucro))"
   ]
  },
  {
   "cell_type": "code",
   "execution_count": null,
   "metadata": {},
   "outputs": [
    {
     "name": "stdout",
     "output_type": "stream",
     "text": [
      "06077422169\n"
     ]
    }
   ],
   "source": [
    "cpf = input(\"Digite seu CPF\")\n",
    "\n",
    "# tratar o CPF\n",
    "\n",
    "# remover espaços no início e ao final;\n",
    "cpf = cpf.strip()\n",
    "# remover os pontos (.)\n",
    "cpf = cpf.replace('.','')\n",
    "# remover os traços (-)\n",
    "cpf = cpf.replace('-','')\n",
    "\n",
    "if len(cpf) == 11 and cpf.isnumeric():\n",
    "    print(cpf)\n",
    "else:\n",
    "    print(\"Digite o CPF corretamente\")\n",
    "\n"
   ]
  },
  {
   "cell_type": "code",
   "execution_count": null,
   "metadata": {},
   "outputs": [
    {
     "name": "stdout",
     "output_type": "stream",
     "text": [
      "Faturamento foi de 1000\n"
     ]
    }
   ],
   "source": [
    "print(\"Faturamento foi de {}\".format(1000))"
   ]
  },
  {
   "cell_type": "code",
   "execution_count": null,
   "metadata": {},
   "outputs": [
    {
     "name": "stdout",
     "output_type": "stream",
     "text": [
      "Meu e-mail não é lira@gmail.com                ,show?\n"
     ]
    }
   ],
   "source": [
    "email = \"lira@gmail.com\"\n",
    "print(\"Meu e-mail não é {:<30},show?\".format(email))"
   ]
  },
  {
   "cell_type": "code",
   "execution_count": null,
   "metadata": {},
   "outputs": [
    {
     "name": "stdout",
     "output_type": "stream",
     "text": [
      "Faturamento foi +270 e lucro foi -230\n"
     ]
    }
   ],
   "source": [
    "custo = 500\n",
    "faturamento = 270\n",
    "lucro = faturamento - custo\n",
    "print(\"Faturamento foi {:+} e lucro foi {:+}\".format(faturamento,lucro))"
   ]
  },
  {
   "cell_type": "code",
   "execution_count": null,
   "metadata": {},
   "outputs": [
    {
     "name": "stdout",
     "output_type": "stream",
     "text": [
      "Faturamento foi +2,700 e lucro foi -2,300\n"
     ]
    }
   ],
   "source": [
    "custo = 5000\n",
    "faturamento = 2700\n",
    "lucro = faturamento - custo\n",
    "print(\"Faturamento foi {:+,} e lucro foi {:+,}\".format(faturamento,lucro))\n"
   ]
  },
  {
   "cell_type": "code",
   "execution_count": null,
   "metadata": {},
   "outputs": [
    {
     "name": "stdout",
     "output_type": "stream",
     "text": [
      "Faturamento foi 270.000 e lucro foi -230.00\n"
     ]
    }
   ],
   "source": [
    "custo = 500\n",
    "faturamento = 270\n",
    "lucro = faturamento - custo\n",
    "print(\"Faturamento foi {:.3f} e lucro foi {:.2f}\".format(faturamento,lucro))"
   ]
  },
  {
   "cell_type": "code",
   "execution_count": null,
   "metadata": {},
   "outputs": [
    {
     "name": "stdout",
     "output_type": "stream",
     "text": [
      "Margem de lucro foi de 61.5%\n"
     ]
    }
   ],
   "source": [
    "custo = 500\n",
    "faturamento = 1300\n",
    "lucro = faturamento - custo\n",
    "margem = lucro / faturamento\n",
    "print(\"Margem de lucro foi de {:.1%}\".format(margem))"
   ]
  },
  {
   "cell_type": "code",
   "execution_count": null,
   "metadata": {},
   "outputs": [
    {
     "name": "stdout",
     "output_type": "stream",
     "text": [
      "Faturamento foi R$27,000.00 e lucro foi R$22,000.00\n",
      "R$22.000,00\n"
     ]
    }
   ],
   "source": [
    "custo = 5000\n",
    "faturamento = 27000\n",
    "lucro = faturamento - custo\n",
    "print(\"Faturamento foi R${:,.2f} e lucro foi R${:,.2f}\".format(faturamento,lucro))\n",
    "\n",
    "lucro_texto = \"R${:_.2f}\".format(lucro)\n",
    "print(lucro_texto.replace('.',',').replace('_','.'))"
   ]
  },
  {
   "cell_type": "code",
   "execution_count": null,
   "metadata": {},
   "outputs": [
    {
     "name": "stdout",
     "output_type": "stream",
     "text": [
      "Imposto sobre o preço é de 15.8\n"
     ]
    }
   ],
   "source": [
    "imposto = .15758\n",
    "preco = 100\n",
    "valor_imposto = round(preco * imposto,1)\n",
    "print(\"Imposto sobre o preço é de {}\".format(valor_imposto))"
   ]
  },
  {
   "cell_type": "code",
   "execution_count": null,
   "metadata": {},
   "outputs": [],
   "source": []
  },
  {
   "cell_type": "code",
   "execution_count": null,
   "metadata": {},
   "outputs": [
    {
     "name": "stdout",
     "output_type": "stream",
     "text": [
      "Cadastro concluído!\n"
     ]
    }
   ],
   "source": [
    "nome = input(\"Digite seu nome\")\n",
    "email = input(\"Digite seu email\")\n",
    "\n",
    "if nome and email:\n",
    "    pos_a = email.find(\"@\")\n",
    "    servidor = email[pos_a:]\n",
    "    if pos_a != -1 and '.' in servidor :\n",
    "        print(\"Cadastro concluído!\")\n",
    "    else:\n",
    "        print(\"E-mail inválido!\")\n",
    "else:\n",
    "    print(\"Digite seu nome e e-mail corretamente\")\n"
   ]
  },
  {
   "cell_type": "code",
   "execution_count": null,
   "metadata": {},
   "outputs": [
    {
     "name": "stdout",
     "output_type": "stream",
     "text": [
      "25\n"
     ]
    }
   ],
   "source": [
    "precos = \"Jan: 25, Fev: 27, Mar: 29\"\n",
    "\n",
    "preco_jan = precos[5:7]\n",
    "print(preco_jan)"
   ]
  },
  {
   "cell_type": "code",
   "execution_count": null,
   "metadata": {},
   "outputs": [
    {
     "name": "stdout",
     "output_type": "stream",
     "text": [
      "['tv', 'celular', 'mouse', 'teclado', 'tablet']\n"
     ]
    }
   ],
   "source": [
    "produtos = [\"tv\",\"celular\",\"mouse\",\"teclado\",\"tablet\"]\n",
    "print(produtos)"
   ]
  },
  {
   "cell_type": "code",
   "execution_count": null,
   "metadata": {},
   "outputs": [],
   "source": [
    "vendas = [1000,1500,350,270,900]"
   ]
  },
  {
   "cell_type": "code",
   "execution_count": null,
   "metadata": {},
   "outputs": [],
   "source": [
    "produtos = [\"apple tv\",\"mac\",\"iphone x\",\"IPad\",\"apple watch\",\"mac book\",\"air pods\"]"
   ]
  },
  {
   "cell_type": "code",
   "execution_count": null,
   "metadata": {},
   "outputs": [
    {
     "name": "stdout",
     "output_type": "stream",
     "text": [
      "Temos 7 produtos\n"
     ]
    }
   ],
   "source": [
    "tamanho = len(produtos)\n",
    "print(\"Temos {} produtos\".format(tamanho))"
   ]
  },
  {
   "cell_type": "code",
   "execution_count": null,
   "metadata": {},
   "outputs": [],
   "source": [
    "vendas = [1000,1500,15000,270,900,100,1200]"
   ]
  },
  {
   "cell_type": "code",
   "execution_count": null,
   "metadata": {},
   "outputs": [],
   "source": [
    "mais_vendido = max(vendas)\n",
    "menos_vendido = min(vendas)"
   ]
  },
  {
   "cell_type": "code",
   "execution_count": null,
   "metadata": {},
   "outputs": [
    {
     "name": "stdout",
     "output_type": "stream",
     "text": [
      "O produto mais vendido teve 15000 unidades vendidas e o menos vendido teve 100 unidades vendidas\n"
     ]
    }
   ],
   "source": [
    "print(\"O produto mais vendido teve {} unidades vendidas e o menos vendido teve {} unidades vendidas\".format(mais_vendido,menos_vendido))"
   ]
  },
  {
   "cell_type": "code",
   "execution_count": null,
   "metadata": {},
   "outputs": [
    {
     "name": "stdout",
     "output_type": "stream",
     "text": [
      "iphone x\n",
      "mac book\n"
     ]
    }
   ],
   "source": [
    "i = vendas.index(mais_vendido)\n",
    "j = vendas.index(menos_vendido)\n",
    "\n",
    "produto_mais_vendido = produtos[i]\n",
    "produto_menos_vendido = produtos[j]\n",
    "\n",
    "\n",
    "print(produto_mais_vendido)\n",
    "print(produto_menos_vendido)\n",
    "\n"
   ]
  },
  {
   "cell_type": "code",
   "execution_count": null,
   "metadata": {},
   "outputs": [],
   "source": [
    "novos_produtos = [\"iphone 12\",\"ioculos\"]\n",
    "\n",
    "produtos.extend(novos_produtos)\n"
   ]
  },
  {
   "cell_type": "code",
   "execution_count": null,
   "metadata": {},
   "outputs": [
    {
     "name": "stdout",
     "output_type": "stream",
     "text": [
      "['apple tv', 'mac', 'iphone x', 'IPad', 'apple watch', 'mac book', 'air pods', 'iphone 12', 'ioculos']\n"
     ]
    }
   ],
   "source": [
    "print(produtos)"
   ]
  },
  {
   "cell_type": "code",
   "execution_count": null,
   "metadata": {},
   "outputs": [
    {
     "name": "stdout",
     "output_type": "stream",
     "text": [
      "['apple tv', 'mac', 'iphone x', 'IPad', 'apple watch', 'mac book', 'air pods', 'iphone 12', 'ioculos', 'iphone 12', 'ioculos']\n"
     ]
    }
   ],
   "source": [
    "todos_produtos = produtos + novos_produtos\n",
    "print(todos_produtos)"
   ]
  },
  {
   "cell_type": "code",
   "execution_count": null,
   "metadata": {},
   "outputs": [
    {
     "name": "stdout",
     "output_type": "stream",
     "text": [
      "35000\n",
      "35000\n"
     ]
    }
   ],
   "source": [
    "vendas = [1000,1500,15000,20000,270,900,100,1200]\n",
    "vendas_iphonex = [15000]\n",
    "vendas_iphone11 = [20000]\n",
    "\n",
    "total_iphone = vendas[2] + vendas[3]\n",
    "total_iphone_listas = vendas_iphonex[0] + vendas_iphone11[0]\n",
    "print(total_iphone)\n",
    "print(total_iphone_listas)"
   ]
  },
  {
   "cell_type": "code",
   "execution_count": null,
   "metadata": {},
   "outputs": [
    {
     "name": "stdout",
     "output_type": "stream",
     "text": [
      "['IPad', 'air pods', 'apple tv', 'apple watch', 'ioculos', 'iphone 12', 'iphone x', 'mac', 'mac book']\n"
     ]
    }
   ],
   "source": [
    "produtos.sort()\n",
    "print(produtos)\n"
   ]
  },
  {
   "cell_type": "code",
   "execution_count": null,
   "metadata": {},
   "outputs": [
    {
     "name": "stdout",
     "output_type": "stream",
     "text": [
      "[20000, 15000, 1500, 1200, 1000, 900, 270, 100]\n"
     ]
    }
   ],
   "source": [
    "vendas.sort(reverse=True)\n",
    "print(vendas)"
   ]
  },
  {
   "cell_type": "code",
   "execution_count": null,
   "metadata": {},
   "outputs": [
    {
     "name": "stdout",
     "output_type": "stream",
     "text": [
      "IPad\n",
      "air pods\n",
      "apple tv\n",
      "apple watch\n",
      "ioculos\n",
      "iphone 12\n",
      "iphone x\n",
      "mac\n",
      "mac book\n"
     ]
    }
   ],
   "source": [
    "print(\"\\n\".join(produtos))"
   ]
  },
  {
   "cell_type": "code",
   "execution_count": null,
   "metadata": {},
   "outputs": [
    {
     "name": "stdout",
     "output_type": "stream",
     "text": [
      "['apple tv', 'mac', 'iphone x', 'iphone 11', 'Ipad', 'apple watch', 'mac book', 'airpods']\n"
     ]
    }
   ],
   "source": [
    "produtos = \"apple tv, mac, iphone x, iphone 11, Ipad, apple watch, mac book, airpods\"\n",
    "lista = produtos.split(\", \")\n",
    "\n",
    "print(lista)"
   ]
  },
  {
   "cell_type": "code",
   "execution_count": null,
   "metadata": {},
   "outputs": [
    {
     "name": "stdout",
     "output_type": "stream",
     "text": [
      "49051\n",
      "9650\n",
      "[25000, 29000, 22200, 17750, 15870, 19900, 19850, 20120, 17540, 15555, 49051, 9650]\n"
     ]
    }
   ],
   "source": [
    "meses = ['jan','fev','mar','abr','mai','jun','jul','ago','set','out','nov','dez']\n",
    "vendas_1sem = [25000,29000,22200,17750,15870,19900]\n",
    "vendas_2sem = [19850,20120,17540,15555,49051,9650]\n",
    "\n",
    "vendas_1sem.extend(vendas_2sem)\n",
    "maior_valor = max(vendas_1sem)\n",
    "menor_valor = min(vendas_1sem)\n",
    "print(maior_valor)\n",
    "print(menor_valor)\n",
    "print(vendas_1sem)"
   ]
  },
  {
   "cell_type": "code",
   "execution_count": null,
   "metadata": {},
   "outputs": [
    {
     "name": "stdout",
     "output_type": "stream",
     "text": [
      "O melhor mês do ano foi nov com 49051 vendas\n",
      "O pior mês do ano foi dez com 9650 vendas\n"
     ]
    }
   ],
   "source": [
    "i_maior_valor = vendas_1sem.index(maior_valor)\n",
    "i_menor_valor = vendas_1sem.index(menor_valor)\n",
    "\n",
    "print(\"O melhor mês do ano foi {} com {} vendas\".format(meses[i_maior_valor],maior_valor))\n",
    "print(\"O pior mês do ano foi {} com {} vendas\".format(meses[i_menor_valor],menor_valor))"
   ]
  },
  {
   "cell_type": "code",
   "execution_count": null,
   "metadata": {},
   "outputs": [
    {
     "name": "stdout",
     "output_type": "stream",
     "text": [
      "Faturamento Total: R$261,486\n"
     ]
    }
   ],
   "source": [
    "fat_total = sum(vendas_1sem)\n",
    "print(\"Faturamento Total: R${:,}\".format(fat_total))"
   ]
  },
  {
   "cell_type": "code",
   "execution_count": null,
   "metadata": {},
   "outputs": [
    {
     "name": "stdout",
     "output_type": "stream",
     "text": [
      "O melhor mês representou 18.76% das vendas do ano todo\n"
     ]
    }
   ],
   "source": [
    "percentual = maior_valor / fat_total\n",
    "print(\"O melhor mês representou {:.2%} das vendas do ano todo\".format(percentual))"
   ]
  },
  {
   "cell_type": "code",
   "execution_count": null,
   "metadata": {},
   "outputs": [
    {
     "name": "stdout",
     "output_type": "stream",
     "text": [
      "[25000, 29000, 22200, 17750, 15870, 19900, 19850, 20120, 17540, 15555, 49051, 9650]\n",
      "[49051]\n",
      "[25000, 29000, 22200, 17750, 15870, 19900, 19850, 20120, 17540, 15555, 9650]\n",
      "[49051, 29000]\n",
      "[25000, 22200, 17750, 15870, 19900, 19850, 20120, 17540, 15555, 9650]\n",
      "[49051, 29000, 25000]\n"
     ]
    }
   ],
   "source": [
    "vendas_1sem = [25000,29000,22200,17750,15870,19900]\n",
    "vendas_2sem = [19850,20120,17540,15555,49051,9650]\n",
    "\n",
    "vendas_1sem.extend(vendas_2sem)\n",
    "\n",
    "top3 = []\n",
    "print(vendas_1sem)\n",
    "maior_valor = max(vendas_1sem)\n",
    "\n",
    "top3.append(maior_valor)\n",
    "print(top3)\n",
    "\n",
    "vendas_1sem.remove(maior_valor)\n",
    "print(vendas_1sem)\n",
    "\n",
    "maior_valor = max(vendas_1sem)\n",
    "top3.append(maior_valor)\n",
    "print(top3)\n",
    "\n",
    "vendas_1sem.remove(maior_valor)\n",
    "print(vendas_1sem)\n",
    "\n",
    "maior_valor = max(vendas_1sem)\n",
    "top3.append(maior_valor)\n",
    "print(top3)"
   ]
  },
  {
   "cell_type": "code",
   "execution_count": null,
   "metadata": {},
   "outputs": [
    {
     "name": "stdout",
     "output_type": "stream",
     "text": [
      "['ipad', 'iphone 11', 'apple tv']\n"
     ]
    }
   ],
   "source": [
    "lista = ['ipad','iphone x', 'apple tv']\n",
    "lista2 = lista\n",
    "\n",
    "lista[1] = 'iphone 11'\n",
    "\n",
    "print(lista2)"
   ]
  },
  {
   "cell_type": "code",
   "execution_count": null,
   "metadata": {},
   "outputs": [
    {
     "name": "stdout",
     "output_type": "stream",
     "text": [
      "['ipad', 'iphone 11', 'apple tv']\n",
      "['ipad', 'iphone x', 'apple tv']\n",
      "['ipad', 'iphone x', 'apple tv']\n"
     ]
    }
   ],
   "source": [
    "lista = ['ipad','iphone x','apple tv']\n",
    "lista2 = lista.copy()\n",
    "lista3 = lista[:]\n",
    "\n",
    "lista[1] = 'iphone 11'\n",
    "\n",
    "print(lista)\n",
    "print(lista2)\n",
    "print(lista3)"
   ]
  },
  {
   "cell_type": "code",
   "execution_count": null,
   "metadata": {},
   "outputs": [
    {
     "name": "stdout",
     "output_type": "stream",
     "text": [
      "300\n",
      "1710\n"
     ]
    }
   ],
   "source": [
    "vendedores = [\"lira\",\"João\",\"Diego\",\"Alon\"]\n",
    "produtos = [\"Ipad\",\"Iphone\"]\n",
    "vendas = [\n",
    "    [100,200],\n",
    "    [300,500],\n",
    "    [50,1000],\n",
    "    [900,10]\n",
    "]\n",
    "\n",
    "vendas_ipad_joao = vendas[1][0]\n",
    "print(vendas_ipad_joao)\n",
    "\n",
    "vendas_iphone = vendas[0][1] + vendas[1][1] + vendas[2][1] + vendas[3][1]\n",
    "print(vendas_iphone)\n"
   ]
  },
  {
   "cell_type": "code",
   "execution_count": null,
   "metadata": {},
   "outputs": [
    {
     "name": "stdout",
     "output_type": "stream",
     "text": [
      "[[100, 200, 10, 10], [300, 500, 15], [50, 1000, 6], [900, 10, 70]]\n"
     ]
    }
   ],
   "source": [
    "vendas_mac = [10,15,6,70]\n",
    "\n",
    "vendas[0].append(vendas_mac[0])\n",
    "vendas[1].append(vendas_mac[1])\n",
    "vendas[2].append(vendas_mac[2])\n",
    "vendas[3].append(vendas_mac[3])\n",
    "\n",
    "print(vendas)"
   ]
  },
  {
   "cell_type": "code",
   "execution_count": null,
   "metadata": {},
   "outputs": [
    {
     "name": "stdout",
     "output_type": "stream",
     "text": [
      "2,200,000\n",
      "Vamos pagar de imposto a mais: R$200,000.0\n"
     ]
    }
   ],
   "source": [
    "produtos = [\"computador\",\"livro\",\"tablet\",\"celular\",\"tv\",\"ar condicionado\",\"alexa\",\"máquina de café\",\"kindle\"]\n",
    "\n",
    "produtos_ecommerce = [\n",
    "    [10000,2500],\n",
    "    [50000,40],\n",
    "    [7000,1200],\n",
    "    [20000,1500],\n",
    "    [5800,1300],\n",
    "    [7200,2500],\n",
    "    [200,800],\n",
    "    [3300,700],\n",
    "    [1900,400]\n",
    "]\n",
    "\n",
    "qtde = 50000\n",
    "preco = 44\n",
    "total = qtde * preco\n",
    "print(\"{:,}\".format(total))\n",
    "\n",
    "if 'livro' in produtos:\n",
    "    i_livro = produtos.index(\"livro\")\n",
    "    total_antigo = produtos_ecommerce[i_livro][0] * produtos_ecommerce[i_livro][1]\n",
    "    produtos_ecommerce[i_livro][1] = produtos_ecommerce[i_livro][1] * 1.1\n",
    "    novo_total = produtos_ecommerce[i_livro][0] * produtos_ecommerce[i_livro][1]\n",
    "    print(\"Vamos pagar de imposto a mais: R${:,}\".format(novo_total - total_antigo))\n"
   ]
  },
  {
   "cell_type": "code",
   "execution_count": null,
   "metadata": {},
   "outputs": [
    {
     "name": "stdout",
     "output_type": "stream",
     "text": [
      "15000 unidades produzidas de coca\n",
      "12000 unidades produzidas de pepsi\n",
      "13000 unidades produzidas de guarana\n",
      "5000 unidades produzidas de sprite\n",
      "250 unidades produzidas de fanta\n"
     ]
    }
   ],
   "source": [
    "produtos = [\"coca\",\"pepsi\",\"guarana\",\"sprite\",\"fanta\"]\n",
    "producao = [15000,12000,13000,5000,250]\n",
    "\n",
    "for i in range(len(producao)):\n",
    "    print(\"{} unidades produzidas de {}\".format(producao[i],produtos[i]))"
   ]
  },
  {
   "cell_type": "code",
   "execution_count": null,
   "metadata": {},
   "outputs": [
    {
     "name": "stdout",
     "output_type": "stream",
     "text": [
      "coca\n",
      "pepsi\n",
      "guarana\n",
      "sprite\n",
      "fanta\n"
     ]
    }
   ],
   "source": [
    "for item in produtos:\n",
    "    print(item)"
   ]
  },
  {
   "cell_type": "code",
   "execution_count": null,
   "metadata": {},
   "outputs": [
    {
     "name": "stdout",
     "output_type": "stream",
     "text": [
      "l\n",
      "i\n",
      "r\n",
      "a\n",
      "@\n",
      "g\n",
      "m\n",
      "a\n",
      "i\n",
      "l\n",
      ".\n",
      "c\n",
      "o\n",
      "m\n"
     ]
    }
   ],
   "source": [
    "texto = \"lira@gmail.com\"\n",
    "for ch in texto:\n",
    "    print(ch)"
   ]
  },
  {
   "cell_type": "code",
   "execution_count": null,
   "metadata": {},
   "outputs": [
    {
     "name": "stdout",
     "output_type": "stream",
     "text": [
      "1200\n",
      "1500\n",
      "1900\n",
      "2750\n",
      "1100\n",
      "1111\n",
      "26.09%\n"
     ]
    }
   ],
   "source": [
    "vendas = [1200,300,800,1500,1900,2750,400,20,23,70,90,80,1100,999,900,880,870,50,1111,120,300,450,800]\n",
    "meta = 1000\n",
    "i = 0\n",
    "j = 0\n",
    "\n",
    "for venda in vendas:\n",
    "    i = i + 1\n",
    "    if venda >= meta:\n",
    "        print(venda)\n",
    "        j = j + 1\n",
    "print(\"{:.2%}\".format(j/i))\n"
   ]
  },
  {
   "cell_type": "code",
   "execution_count": null,
   "metadata": {},
   "outputs": [],
   "source": [
    "produtos = [\"iphone\",\"ipad\",\"airpod\",\"macbook\"]\n",
    "precos = [7000,10000,2500,14000]\n"
   ]
  },
  {
   "cell_type": "code",
   "execution_count": null,
   "metadata": {},
   "outputs": [
    {
     "name": "stdout",
     "output_type": "stream",
     "text": [
      "7700.000000000001\n",
      "11000.0\n",
      "2750.0\n",
      "15400.000000000002\n"
     ]
    }
   ],
   "source": [
    "for preco in precos:\n",
    "    print(preco * 1.1)"
   ]
  },
  {
   "cell_type": "code",
   "execution_count": null,
   "metadata": {},
   "outputs": [
    {
     "name": "stdout",
     "output_type": "stream",
     "text": [
      "0\n",
      "1\n",
      "2\n",
      "3\n",
      "4\n",
      "5\n",
      "6\n",
      "7\n",
      "8\n",
      "9\n"
     ]
    }
   ],
   "source": [
    "for i in range(10):\n",
    "    print(i)"
   ]
  },
  {
   "cell_type": "code",
   "execution_count": null,
   "metadata": {},
   "outputs": [
    {
     "name": "stdout",
     "output_type": "stream",
     "text": [
      "iphone 7000\n",
      "ipad 10000\n",
      "airpod 2500\n",
      "macbook 14000\n"
     ]
    }
   ],
   "source": [
    "for i in range(len(precos)):\n",
    "    produto = produtos[i]\n",
    "    preco = precos[i]\n",
    "    print(produto,preco)"
   ]
  },
  {
   "cell_type": "code",
   "execution_count": null,
   "metadata": {},
   "outputs": [
    {
     "name": "stdout",
     "output_type": "stream",
     "text": [
      "iphone 7000\n",
      "ipad 10000\n",
      "airpod 2500\n",
      "macbook 14000\n"
     ]
    }
   ],
   "source": [
    "for i, preco in enumerate(precos):\n",
    "    produto = produtos[i]\n",
    "    print(produto,preco)"
   ]
  },
  {
   "cell_type": "code",
   "execution_count": null,
   "metadata": {},
   "outputs": [
    {
     "name": "stdout",
     "output_type": "stream",
     "text": [
      "1\n",
      "[['sad', 'cpf:dsdas']]\n"
     ]
    }
   ],
   "source": [
    "qtde_pessoas = int(input(\"Quantas pessoas terão no quarto?\"))\n",
    "print(qtde_pessoas)\n",
    "quarto = []\n",
    "\n",
    "for i in range(qtde_pessoas):\n",
    "    nome = input(\"Qual o nome?\")\n",
    "    cpf = input(\"Qual o cpf?\")\n",
    "    hospede = [nome,\"cpf:{}\".format(cpf)]\n",
    "    quarto.append(hospede)\n",
    "print(quarto)"
   ]
  },
  {
   "cell_type": "code",
   "execution_count": null,
   "metadata": {},
   "outputs": [
    {
     "name": "stdout",
     "output_type": "stream",
     "text": [
      "Vendedor João bateu a meta. Fez 15000 vendas.\n",
      "Vendedor Julia bateu a meta. Fez 27000 vendas.\n",
      "Vendedor Ana bateu a meta. Fez 10300 vendas.\n"
     ]
    }
   ],
   "source": [
    "meta = 10000\n",
    "vendas = [\n",
    "    [\"João\",15000],\n",
    "    [\"Julia\",27000],\n",
    "    [\"Marcus\",9900],\n",
    "    [\"Maria\",3750],\n",
    "    [\"Ana\",10300],\n",
    "    [\"Alon\",7870]\n",
    "    ]\n",
    "for item in vendas:\n",
    "    if item[1] >= meta:\n",
    "        print(\"Vendedor {} bateu a meta. Fez {} vendas.\".format(item[0],item[1]))"
   ]
  },
  {
   "cell_type": "code",
   "execution_count": null,
   "metadata": {},
   "outputs": [
    {
     "name": "stdout",
     "output_type": "stream",
     "text": [
      "iphone vendeu R$558,147 em 2019,R$951,642 em 2020 e teve 70.5% de crescimento\n",
      "tv vendeu R$405,252 em 2019,R$787,604 em 2020 e teve 94.3% de crescimento\n",
      "máquina de café vendeu R$718,654 em 2019,R$867,660 em 2020 e teve 20.7% de crescimento\n",
      "notebook dell vendeu R$422,760 em 2019,R$694,913 em 2020 e teve 64.4% de crescimento\n",
      "notebook hp vendeu R$154,753 em 2019,R$539,704 em 2020 e teve 248.8% de crescimento\n",
      "microsoft surface vendeu R$438,508 em 2019,R$667,179 em 2020 e teve 52.1% de crescimento\n",
      "webcam vendeu R$237,467 em 2019,R$295,633 em 2020 e teve 24.5% de crescimento\n",
      "caixa de som vendeu R$489,705 em 2019,R$725,316 em 2020 e teve 48.1% de crescimento\n",
      "microfone vendeu R$328,311 em 2019,R$644,622 em 2020 e teve 96.3% de crescimento\n",
      "câmera canon vendeu R$591,120 em 2019,R$994,303 em 2020 e teve 68.2% de crescimento\n"
     ]
    }
   ],
   "source": [
    "produtos = ['iphone', 'galaxy', 'ipad', 'tv', 'máquina de café', 'kindle', 'geladeira', 'adega', 'notebook dell', 'notebook hp', 'notebook asus', 'microsoft surface', 'webcam', 'caixa de som', 'microfone', 'câmera canon']\n",
    "vendas2019 = [558147,712350,573823,405252,718654,531580,973139,892292,422760,154753,887061,438508,237467,489705,328311,591120]\n",
    "vendas2020 = [951642,244295,26964,787604,867660,78830,710331,646016,694913,539704,324831,667179,295633,725316,644622,994303]\n",
    "\n",
    "for i,produto in enumerate(produtos):\n",
    "    if vendas2020[i] > vendas2019[i]:\n",
    "        crescimento = vendas2020[i]/vendas2019[i] -1\n",
    "        print(\"{} vendeu R${:,} em 2019,R${:,} em 2020 e teve {:.1%} de crescimento\".format(produto,vendas2019[i],vendas2020[i],crescimento))"
   ]
  },
  {
   "cell_type": "markdown",
   "metadata": {},
   "source": [
    "for item in lista:\n",
    "    for item2 in lista2:\n",
    "         "
   ]
  },
  {
   "cell_type": "code",
   "execution_count": 83,
   "metadata": {},
   "outputs": [
    {
     "name": "stdout",
     "output_type": "stream",
     "text": [
      "47\n",
      "7\n",
      "23\n",
      "42\n",
      "2\n",
      "10\n"
     ]
    }
   ],
   "source": [
    "estoque = [\n",
    "    [294, 125, 269, 208, 783, 852, 259, 371, 47, 102, 386, 87, 685, 686, 697, 941, 163, 631, 7, 714, 218, 670, 453],\n",
    "    [648, 816, 310, 555, 992, 643, 226, 319, 501, 23, 239, 42, 372, 441, 126, 645, 927, 911, 761, 445, 974, 2, 549],\n",
    "    [832, 683, 784, 449, 977, 705, 198, 937, 729, 327, 339, 10, 975, 310, 95, 689, 137, 795, 211, 538, 933, 751, 522],\n",
    "    [837, 168, 570, 397, 53, 297, 966, 714, 72, 737, 259, 629, 625, 469, 922, 305, 782, 243, 841, 848, 372, 621, 362],\n",
    "    [429, 242, 53, 985, 406, 186, 198, 50, 501, 870, 781, 632, 781, 105, 644, 509, 401, 88, 961, 765, 422, 340, 654],\n",
    "]\n",
    "fabricas = ['Lira Manufacturing', 'Fábrica Hashtag', 'Python Manufaturas', 'Produções e Cia', 'Manufatura e Cia']\n",
    "nivel_minimo = 50\n",
    "\n",
    "for lista in estoque:\n",
    "    # se dentro daquela lista tem alguém abaixo do nível mínimo\n",
    "    for qtde in lista:\n",
    "        if qtde < nivel_minimo:\n",
    "            print(qtde)\n"
   ]
  },
  {
   "cell_type": "code",
   "execution_count": 84,
   "metadata": {},
   "outputs": [
    {
     "name": "stdout",
     "output_type": "stream",
     "text": [
      "Lira Manufacturing\n",
      "Lira Manufacturing\n",
      "Fábrica Hashtag\n",
      "Fábrica Hashtag\n",
      "Fábrica Hashtag\n",
      "Python Manufaturas\n"
     ]
    }
   ],
   "source": [
    "for i, lista in enumerate(estoque):\n",
    "    for qtde in lista:\n",
    "        if qtde < nivel_minimo:\n",
    "            print(fabricas[i])"
   ]
  },
  {
   "cell_type": "code",
   "execution_count": 87,
   "metadata": {},
   "outputs": [
    {
     "name": "stdout",
     "output_type": "stream",
     "text": [
      "['Lira Manufacturing', 'Fábrica Hashtag', 'Python Manufaturas']\n"
     ]
    }
   ],
   "source": [
    "fabricas_abaixo_nivel = []\n",
    "\n",
    "for i, lista in enumerate(estoque):\n",
    "    # se dentro daquela lista em alguem abaixo do nivel minimo\n",
    "    for qtde in lista:\n",
    "        if qtde < nivel_minimo:\n",
    "            if fabricas[i] in fabricas_abaixo_nivel:\n",
    "                pass\n",
    "            else:\n",
    "                fabricas_abaixo_nivel.append(fabricas[i])\n",
    "print(fabricas_abaixo_nivel)\n"
   ]
  },
  {
   "cell_type": "code",
   "execution_count": 95,
   "metadata": {},
   "outputs": [
    {
     "name": "stdout",
     "output_type": "stream",
     "text": [
      "[['João', 15000], ['Julia', 27000], ['Ana', 10300]]\n",
      "50% dos vendedores bateram a meta\n"
     ]
    }
   ],
   "source": [
    "meta = 10000\n",
    "vendas = [\n",
    "    [\"João\",15000],\n",
    "    [\"Julia\",27000],\n",
    "    [\"Marcus\",9900],\n",
    "    [\"Maria\",3750],\n",
    "    [\"Ana\",10300],\n",
    "    [\"Alon\",7870]\n",
    "]\n",
    "\n",
    "acima_meta = []\n",
    "\n",
    "for venda in vendas:\n",
    "    if venda[1] >= meta:\n",
    "        acima_meta.append(venda)\n",
    "\n",
    "print(acima_meta)\n",
    "print(\"{:.0%} dos vendedores bateram a meta\".format(len(acima_meta)/len(vendas)))"
   ]
  },
  {
   "cell_type": "code",
   "execution_count": 96,
   "metadata": {},
   "outputs": [
    {
     "name": "stdout",
     "output_type": "stream",
     "text": [
      "50% dos vendedores bateram a meta\n"
     ]
    }
   ],
   "source": [
    "# cálculo diretamente na lista\n",
    "qtde_vendedores_acima = 0\n",
    "\n",
    "for venda in vendas:\n",
    "    if venda[1] >= meta:\n",
    "        qtde_vendedores_acima += 1\n",
    "print(\"{:.0%} dos vendedores bateram a meta\".format(qtde_vendedores_acima/len(vendas)))"
   ]
  },
  {
   "cell_type": "code",
   "execution_count": 98,
   "metadata": {},
   "outputs": [
    {
     "name": "stdout",
     "output_type": "stream",
     "text": [
      "27000 Julia\n"
     ]
    }
   ],
   "source": [
    "melhor_vendedor = ''\n",
    "maior_vendas = 0\n",
    "\n",
    "for venda in vendas:\n",
    "    if venda[1] > maior_vendas:\n",
    "        maior_vendas = venda[1]\n",
    "        melhor_vendedor = venda[0]\n",
    "print(maior_vendas,melhor_vendedor)\n"
   ]
  },
  {
   "cell_type": "code",
   "execution_count": 100,
   "metadata": {},
   "outputs": [
    {
     "name": "stdout",
     "output_type": "stream",
     "text": [
      "A loja não ganha bônus\n"
     ]
    }
   ],
   "source": [
    "vendas = [100,150,1500,2000,120]\n",
    "meta = 110\n",
    "\n",
    "for venda in vendas:\n",
    "    if venda < meta:\n",
    "        print(\"A loja não ganha bônus\")\n",
    "        break\n",
    "    print(venda)"
   ]
  },
  {
   "cell_type": "code",
   "execution_count": 102,
   "metadata": {},
   "outputs": [
    {
     "name": "stdout",
     "output_type": "stream",
     "text": [
      "150\n",
      "1500\n",
      "2000\n"
     ]
    }
   ],
   "source": [
    "vendedores = [\"João\",\"Julia\",\"Ana\",\"José\",\"Maria\"]\n",
    "meta = 130\n",
    "\n",
    "for venda in vendas:\n",
    "    if venda < meta:\n",
    "        continue\n",
    "    print(venda)"
   ]
  },
  {
   "cell_type": "code",
   "execution_count": null,
   "metadata": {},
   "outputs": [],
   "source": []
  },
  {
   "cell_type": "code",
   "execution_count": 13,
   "metadata": {},
   "outputs": [
    {
     "name": "stdout",
     "output_type": "stream",
     "text": [
      "Registro finalizado. As vendas cadastradas foram: ['a', 'sd', 's', 'f', 'df', 'sd', 'a', 'd', 'd', 'fd', 'afsdf']\n"
     ]
    }
   ],
   "source": [
    "venda = input(\"Registre um produto. Para cancelar o registro de um novo produto, basta apertar enter com a caixa vazia\")\n",
    "vendas = []\n",
    "\n",
    "while venda != '':\n",
    "    vendas.append(venda)\n",
    "    venda = input(\"Registre um produto. Para cancelar o registro de um novo produto, basta apertar enter com a caixa vazia\")\n",
    "\n",
    "\n",
    "print(\"Registro finalizado. As vendas cadastradas foram: {}\".format(vendas))"
   ]
  },
  {
   "cell_type": "code",
   "execution_count": 16,
   "metadata": {},
   "outputs": [
    {
     "name": "stdout",
     "output_type": "stream",
     "text": [
      "Maria bateu a meta. Vendas: 941\n",
      "José bateu a meta. Vendas: 852\n",
      "Antônio bateu a meta. Vendas: 783\n",
      "João bateu a meta. Vendas: 714\n",
      "Francisco bateu a meta. Vendas: 697\n",
      "Ana bateu a meta. Vendas: 686\n",
      "Luiz bateu a meta. Vendas: 685\n",
      "Paulo bateu a meta. Vendas: 670\n",
      "Carlos bateu a meta. Vendas: 631\n",
      "Manoel bateu a meta. Vendas: 453\n",
      "Pedro bateu a meta. Vendas: 386\n",
      "Francisca bateu a meta. Vendas: 371\n",
      "Marcos bateu a meta. Vendas: 294\n",
      "Raimundo bateu a meta. Vendas: 269\n",
      "Sebastião bateu a meta. Vendas: 259\n",
      "Antônia bateu a meta. Vendas: 218\n",
      "Marcelo bateu a meta. Vendas: 208\n",
      "Jorge bateu a meta. Vendas: 163\n",
      "Márcia bateu a meta. Vendas: 125\n",
      "Geraldo bateu a meta. Vendas: 102\n",
      "Adriana bateu a meta. Vendas: 87\n"
     ]
    }
   ],
   "source": [
    "vendas = [941, 852, 783, 714, 697, 686, 685, 670, 631, 453, 386, 371, 294, 269, 259, 218, 208, 163, 125, 102, 87, 47, 7]\n",
    "vendedores = ['Maria', 'José', 'Antônio', 'João', 'Francisco', 'Ana', 'Luiz', 'Paulo', 'Carlos', 'Manoel', 'Pedro', 'Francisca', 'Marcos', 'Raimundo', 'Sebastião', 'Antônia', 'Marcelo', 'Jorge', 'Márcia', 'Geraldo', 'Adriana', 'Sandra', 'Luis']\n",
    "meta = 50\n",
    "\n",
    "i = 0 \n",
    "\n",
    "while vendas[i] > meta:\n",
    "    if vendas[i] > 0:\n",
    "        print(\"{} bateu a meta. Vendas: {}\".format(vendedores[i],vendas[i]))\n",
    "    i += 1\n",
    "    "
   ]
  },
  {
   "cell_type": "code",
   "execution_count": 3,
   "metadata": {},
   "outputs": [
    {
     "name": "stdout",
     "output_type": "stream",
     "text": [
      "[['h', 3]]\n",
      "[['h', 3], ['g', 5]]\n",
      "[['h', 3], ['g', 5], ['df', 6]]\n",
      "[['h', 3], ['g', 5], ['df', 6]]\n"
     ]
    }
   ],
   "source": [
    " vendas = []\n",
    "\n",
    "while True:\n",
    "    produto = input(\"Qual o produto?\")\n",
    "    if not produto:\n",
    "       break\n",
    "    qtde = int(input(\"Qual a quantidade?\"))\n",
    "    vendas.append([produto,qtde])\n",
    "    print(vendas)\n",
    "\n",
    "print(vendas)"
   ]
  },
  {
   "cell_type": "code",
   "execution_count": 8,
   "metadata": {},
   "outputs": [
    {
     "name": "stdout",
     "output_type": "stream",
     "text": [
      "('Lira', '25/08/2020', '15/02/1994', 2000, 'Estagiário')\n"
     ]
    }
   ],
   "source": [
    "# Tuplas\n",
    "\n",
    "vendas = (\"Lira\",\"25/08/2020\",\"15/02/1994\",2000,\"Estagiário\")\n",
    "\n",
    "print(vendas)"
   ]
  },
  {
   "cell_type": "code",
   "execution_count": 9,
   "metadata": {},
   "outputs": [],
   "source": [
    "nome = vendas[0]\n",
    "data_contratacao = vendas[1]\n",
    "data_nascimento = vendas[2]\n",
    "salario = vendas[3]\n",
    "cargo = vendas[4]"
   ]
  },
  {
   "cell_type": "code",
   "execution_count": null,
   "metadata": {},
   "outputs": [],
   "source": [
    "nome, data_contratacao, data_nascimento, salario, cargo = vendas\n",
    "\n",
    "print(salario)"
   ]
  },
  {
   "cell_type": "code",
   "execution_count": 17,
   "metadata": {},
   "outputs": [
    {
     "name": "stdout",
     "output_type": "stream",
     "text": [
      "(0, 1000)\n",
      "(1, 2000)\n",
      "(2, 300)\n",
      "(3, 300)\n",
      "(4, 150)\n"
     ]
    }
   ],
   "source": [
    "vendas = [1000,2000,300,300,150]\n",
    "funcionarios = [\"João\",\"Lira\",\"Ana\",\"Maria\",\"Paula\"]\n",
    "\n",
    "for item in enumerate(vendas):\n",
    "    print(item)\n",
    "    "
   ]
  },
  {
   "cell_type": "code",
   "execution_count": 19,
   "metadata": {},
   "outputs": [],
   "source": [
    "vendas = [\n",
    "    ('20/08/2020', 'iphone x', 'azul', '128gb', 350, 4000),\n",
    "    ('20/08/2020', 'iphone x', 'prata', '128gb', 1500, 4000),\n",
    "    ('20/08/2020', 'ipad', 'prata', '256gb', 127, 6000),\n",
    "    ('20/08/2020', 'ipad', 'prata', '128gb', 981, 5000),\n",
    "    ('21/08/2020', 'iphone x', 'azul', '128gb', 397, 4000),\n",
    "    ('21/08/2020', 'iphone x', 'prata', '128gb', 1017, 4000),\n",
    "    ('21/08/2020', 'ipad', 'prata', '256gb', 50, 6000),\n",
    "    ('21/08/2020', 'ipad', 'prata', '128gb', 4000, 5000),\n"
   ]
  },
  {
   "cell_type": "code",
   "execution_count": 22,
   "metadata": {},
   "outputs": [
    {
     "name": "stdout",
     "output_type": "stream",
     "text": [
      "1400000\n"
     ]
    }
   ],
   "source": [
    "data,produto,cor,capacidade,unidades,valor_unitario = vendas[0]\n",
    "faturamento = unidades * valor_unitario\n",
    "print(faturamento)"
   ]
  },
  {
   "cell_type": "code",
   "execution_count": 26,
   "metadata": {},
   "outputs": [
    {
     "name": "stdout",
     "output_type": "stream",
     "text": [
      "('20/08/2020', 'iphone x', 'azul', '128gb', 350, 4000)\n",
      "('20/08/2020', 'iphone x', 'prata', '128gb', 1500, 4000)\n",
      "('20/08/2020', 'ipad', 'prata', '256gb', 127, 6000)\n",
      "('20/08/2020', 'ipad', 'prata', '128gb', 981, 5000)\n",
      "('21/08/2020', 'iphone x', 'azul', '128gb', 397, 4000)\n",
      "('21/08/2020', 'iphone x', 'prata', '128gb', 1017, 4000)\n",
      "('21/08/2020', 'ipad', 'prata', '256gb', 50, 6000)\n",
      "('21/08/2020', 'ipad', 'prata', '128gb', 4000, 5000)\n"
     ]
    }
   ],
   "source": [
    "for item in vendas:\n",
    "    print(item)"
   ]
  },
  {
   "cell_type": "code",
   "execution_count": 36,
   "metadata": {},
   "outputs": [
    {
     "name": "stdout",
     "output_type": "stream",
     "text": [
      "O faturamento de Iphone no dia 20/08/2020 foi de 7400000\n"
     ]
    }
   ],
   "source": [
    "faturamento = 0\n",
    "for data, produto, cor, capacidade, unidades,valor_unitario in vendas:\n",
    "    if produto == 'iphone x' and data == '20/08/2020': # ALTERNATIVA: if 'iphone' in produto:\n",
    "        faturamento += unidades * valor_unitario\n",
    "print(\"O faturamento de Iphone no dia 20/08/2020 foi de {}\".format(faturamento))"
   ]
  },
  {
   "cell_type": "code",
   "execution_count": 46,
   "metadata": {},
   "outputs": [
    {
     "name": "stdout",
     "output_type": "stream",
     "text": [
      "Meu produto mais vendido no dia 21/08/2020 foi o ipad com 4000 unidades. Cor: prata, capacidade:128gb\n"
     ]
    }
   ],
   "source": [
    "produto_mais_vendido = ''\n",
    "qtde_produto_mais_vendido = 0\n",
    "cor_produto_mais_vendido = ''\n",
    "capacidade_produto_mais_vendido = ''\n",
    "for data, produto, cor, capacidade, unidades,valor_unitario in vendas:\n",
    "    if data == '21/08/2020':\n",
    "        if unidades > qtde_produto_mais_vendido:\n",
    "            produto_mais_vendido = produto\n",
    "            qtde_produto_mais_vendido = unidades\n",
    "            cor_produto_mais_vendido = cor\n",
    "            capacidade_produto_mais_vendido = capacidade\n",
    "\n",
    "print(\"Meu produto mais vendido no dia 21/08/2020 foi o {} com {} unidades. Cor: {}, capacidade:{}\"\n",
    "      .format(produto_mais_vendido,\n",
    "              qtde_produto_mais_vendido,\n",
    "              cor_produto_mais_vendido,\n",
    "              capacidade_produto_mais_vendido))"
   ]
  },
  {
   "cell_type": "code",
   "execution_count": 48,
   "metadata": {},
   "outputs": [
    {
     "name": "stdout",
     "output_type": "stream",
     "text": [
      "João bateu a meta; vendeu 15000 unidades.\n",
      "Julia bateu a meta; vendeu 27000 unidades.\n",
      "Ana bateu a meta; vendeu 10300 unidades.\n"
     ]
    }
   ],
   "source": [
    "meta = 10000\n",
    "vendas = [\n",
    "    (\"João\",15000),\n",
    "    (\"Julia\",27000),\n",
    "    (\"Marcus\",9900),\n",
    "    (\"Maria\",3750),\n",
    "    (\"Ana\",10300),\n",
    "    (\"Alon\",7870)\n",
    "]\n",
    "\n",
    "for vendedor, qtde in vendas:\n",
    "    if qtde >= meta:\n",
    "        print(\"{} bateu a meta; vendeu {} unidades.\".format(vendedor,qtde))"
   ]
  },
  {
   "cell_type": "code",
   "execution_count": 52,
   "metadata": {},
   "outputs": [
    {
     "name": "stdout",
     "output_type": "stream",
     "text": [
      "iphone teve 558147 vendas em 2019, 951642 vendas em 2020. Crescimento de 70.5%\n",
      "tv teve 405252 vendas em 2019, 787604 vendas em 2020. Crescimento de 94.3%\n",
      "máquina de café teve 718654 vendas em 2019, 867660 vendas em 2020. Crescimento de 20.7%\n",
      "notebook dell teve 422760 vendas em 2019, 694913 vendas em 2020. Crescimento de 64.4%\n",
      "notebook hp teve 154753 vendas em 2019, 539704 vendas em 2020. Crescimento de 248.8%\n",
      "microsoft surface teve 438508 vendas em 2019, 667179 vendas em 2020. Crescimento de 52.1%\n",
      "webcam teve 237467 vendas em 2019, 295633 vendas em 2020. Crescimento de 24.5%\n",
      "caixa de som teve 489705 vendas em 2019, 725316 vendas em 2020. Crescimento de 48.1%\n",
      "microfone teve 328311 vendas em 2019, 644622 vendas em 2020. Crescimento de 96.3%\n",
      "câmera canon teve 591120 vendas em 2019, 994303 vendas em 2020. Crescimento de 68.2%\n"
     ]
    }
   ],
   "source": [
    "vendas_produtos = [\n",
    "    ('iphone', 558147, 951642),\n",
    "      ('galaxy', 712350, 244295),\n",
    "        ('ipad', 573823, 26964),\n",
    "          ('tv', 405252, 787604),\n",
    "            ('máquina de café', 718654, 867660),\n",
    "              ('kindle', 531580, 78830),\n",
    "                ('geladeira', 973139, 710331),\n",
    "                  ('adega', 892292, 646016),\n",
    "                    ('notebook dell', 422760, 694913),\n",
    "                      ('notebook hp', 154753, 539704),\n",
    "                        ('notebook asus', 887061, 324831),\n",
    "                          ('microsoft surface', 438508, 667179),\n",
    "                            ('webcam', 237467, 295633),\n",
    "                              ('caixa de som', 489705, 725316),\n",
    "                                ('microfone', 328311, 644622),\n",
    "                                  ('câmera canon', 591120, 994303)\n",
    "                                  ]\n",
    "\n",
    "for produto,venda19,venda20 in vendas_produtos:\n",
    "    if venda20 > venda19:\n",
    "        crescimento = venda20/venda19 - 1\n",
    "        print(\"{} teve {} vendas em 2019, {} vendas em 2020. Crescimento de {:.1%}\"\n",
    "              .format(produto,venda19,venda20,crescimento))"
   ]
  },
  {
   "cell_type": "code",
   "execution_count": 53,
   "metadata": {},
   "outputs": [],
   "source": [
    "mais_vendidos = {'tecnologia': 'iphone', 'refrigeracao': 'ar consul 12000 btu', 'livros': 'o alquimista', 'eletrodoméstico': 'geladeira', 'lazer': 'prancha surf'}\n",
    "\n",
    "vendas_tecnologia = {'iphone': 15000, 'samsung galaxy': 12000, 'tv samsung': 10000, 'ps5': 14300, 'tablet': 1720, 'ipad': 1000, 'tv philco': 2500, 'notebook hp': 1000, 'notebook dell': 17000, 'notebook asus': 2450}"
   ]
  },
  {
   "cell_type": "code",
   "execution_count": 57,
   "metadata": {},
   "outputs": [
    {
     "name": "stdout",
     "output_type": "stream",
     "text": [
      "o alquimista prancha surf\n",
      "2450 1000\n"
     ]
    }
   ],
   "source": [
    "qtde_iphone = vendas_tecnologia['iphone']\n",
    "\n",
    "livro = mais_vendidos[\"livros\"]\n",
    "lazer = mais_vendidos[\"lazer\"]\n",
    "print(livro,lazer)\n",
    "\n",
    "qtde_noteasus = vendas_tecnologia[\"notebook asus\"]\n",
    "qtde_ipad = vendas_tecnologia[\"ipad\"]\n",
    "print(qtde_noteasus,qtde_ipad)\n"
   ]
  },
  {
   "cell_type": "code",
   "execution_count": 62,
   "metadata": {},
   "outputs": [
    {
     "name": "stdout",
     "output_type": "stream",
     "text": [
      "o alquimista\n",
      "prancha surf\n",
      "2450\n",
      "1000\n"
     ]
    }
   ],
   "source": [
    "print(mais_vendidos['livros'])\n",
    "\n",
    "print(mais_vendidos[\"lazer\"])\n",
    "\n",
    "print(vendas_tecnologia.get('notebook asus'))\n",
    "\n",
    "print(vendas_tecnologia.get(\"ipad\"))"
   ]
  },
  {
   "cell_type": "code",
   "execution_count": 63,
   "metadata": {},
   "outputs": [
    {
     "name": "stdout",
     "output_type": "stream",
     "text": [
      "None\n"
     ]
    }
   ],
   "source": [
    "print(vendas_tecnologia.get(\"ipads\"))"
   ]
  },
  {
   "cell_type": "code",
   "execution_count": 64,
   "metadata": {},
   "outputs": [
    {
     "ename": "KeyError",
     "evalue": "'ipads'",
     "output_type": "error",
     "traceback": [
      "\u001b[1;31m---------------------------------------------------------------------------\u001b[0m",
      "\u001b[1;31mKeyError\u001b[0m                                  Traceback (most recent call last)",
      "Cell \u001b[1;32mIn[64], line 1\u001b[0m\n\u001b[1;32m----> 1\u001b[0m \u001b[39mprint\u001b[39m(vendas_tecnologia[\u001b[39m\"\u001b[39m\u001b[39mipads\u001b[39m\u001b[39m\"\u001b[39m])\n",
      "\u001b[1;31mKeyError\u001b[0m: 'ipads'"
     ]
    }
   ],
   "source": [
    "print(vendas_tecnologia[\"ipads\"])"
   ]
  },
  {
   "cell_type": "code",
   "execution_count": 65,
   "metadata": {},
   "outputs": [
    {
     "name": "stdout",
     "output_type": "stream",
     "text": [
      "Copo não está dentro da lista de produtos de tecnologia\n"
     ]
    }
   ],
   "source": [
    "if 'copo' in vendas_tecnologia:\n",
    "    print(vendas_tecnologia[\"copo\"])\n",
    "else:\n",
    "    print(\"Copo não está dentro da lista de produtos de tecnologia\")"
   ]
  },
  {
   "cell_type": "code",
   "execution_count": 66,
   "metadata": {},
   "outputs": [
    {
     "name": "stdout",
     "output_type": "stream",
     "text": [
      "Copo não está dentro da lista de produtos de tecnologia\n"
     ]
    }
   ],
   "source": [
    "if vendas_tecnologia.get(\"copo\") == None:\n",
    "    print(\"Copo não está dentro da lista de produtos de tecnologia\")\n",
    "else:\n",
    "    print(vendas_tecnologia.get(\"copo\"))"
   ]
  },
  {
   "cell_type": "markdown",
   "metadata": {},
   "source": [
    "dicionario = {}\n",
    "dicionario[chave] = valor \n",
    "\n",
    "ou:\n",
    "\n",
    "dicionario.update({chave:valor,chave:valor})\n",
    "\n"
   ]
  },
  {
   "cell_type": "code",
   "execution_count": 76,
   "metadata": {},
   "outputs": [
    {
     "name": "stdout",
     "output_type": "stream",
     "text": [
      "{'janeiro': 100000, 'fevereiro': 120000, 'março': 90000}\n",
      "{'janeiro': 100000, 'fevereiro': 120000, 'março': 90000, 'abril': 88000, 'maio': 89000, 'junho': 120000}\n",
      "{'janeiro': 88000, 'fevereiro': 120000, 'março': 90000, 'abril': 88000, 'maio': 89000, 'junho': 120000}\n"
     ]
    }
   ],
   "source": [
    "lucro_1tri = {\"janeiro\":100000,\"fevereiro\":120000,\"março\":90000}\n",
    "lucro_2tri = {\"abril\":88000,\"maio\":89000,\"junho\":120000}\n",
    "\n",
    "print(lucro_1tri)\n",
    "lucro_1tri.update({\"abril\":88000,\"maio\":89000,\"junho\":120000})\n",
    "print(lucro_1tri)\n",
    "\n",
    "lucro_1tri['janeiro'] = 88000\n",
    "print(lucro_1tri)"
   ]
  },
  {
   "cell_type": "code",
   "execution_count": 71,
   "metadata": {},
   "outputs": [
    {
     "name": "stdout",
     "output_type": "stream",
     "text": [
      "{'janeiro': 88000, 'fevereiro': 120000, 'março': 90000, 'abril': 88000, 'maio': 89000}\n"
     ]
    }
   ],
   "source": [
    "del lucro_1tri['junho']\n",
    "print(lucro_1tri)"
   ]
  },
  {
   "cell_type": "code",
   "execution_count": 77,
   "metadata": {},
   "outputs": [
    {
     "name": "stdout",
     "output_type": "stream",
     "text": [
      "{'janeiro': 88000, 'fevereiro': 120000, 'março': 90000, 'abril': 88000, 'maio': 89000}\n",
      "120000\n"
     ]
    }
   ],
   "source": [
    "lucro_junho = lucro_1tri.pop('junho')\n",
    "print(lucro_1tri)\n",
    "print(lucro_junho)"
   ]
  },
  {
   "cell_type": "code",
   "execution_count": 79,
   "metadata": {},
   "outputs": [
    {
     "name": "stdout",
     "output_type": "stream",
     "text": [
      "{}\n",
      "['Lira']\n"
     ]
    }
   ],
   "source": [
    "lucro_1tri.clear()\n",
    "print(lucro_1tri)\n",
    "\n",
    "funcionarios = [\"João\",\"Lira\"]\n",
    "del funcionarios[0]\n",
    "print(funcionarios)"
   ]
  },
  {
   "cell_type": "code",
   "execution_count": 83,
   "metadata": {},
   "outputs": [
    {
     "name": "stdout",
     "output_type": "stream",
     "text": [
      "iphone\n",
      "samsung galaxy\n",
      "tv samsung\n",
      "ps5\n",
      "tablet\n",
      "ipad\n",
      "tv philco\n",
      "notebook hp\n",
      "notebook dell\n",
      "notebook asus\n",
      "iphone 15000\n",
      "samsung galaxy 12000\n",
      "tv samsung 10000\n",
      "ps5 14300\n",
      "tablet 1720\n",
      "ipad 1000\n",
      "tv philco 2500\n",
      "notebook hp 1000\n",
      "notebook dell 17000\n",
      "notebook asus 2450\n",
      "iphone: 15000 unidades\n",
      "samsung galaxy: 12000 unidades\n",
      "tv samsung: 10000 unidades\n",
      "ps5: 14300 unidades\n",
      "tablet: 1720 unidades\n",
      "ipad: 1000 unidades\n",
      "tv philco: 2500 unidades\n",
      "notebook hp: 1000 unidades\n",
      "notebook dell: 17000 unidades\n",
      "notebook asus: 2450 unidades\n"
     ]
    }
   ],
   "source": [
    "vendas_tecnologia = {'iphone': 15000, 'samsung galaxy': 12000, 'tv samsung': 10000, 'ps5': 14300, 'tablet': 1720, 'ipad': 1000, 'tv philco': 2500, 'notebook hp': 1000, 'notebook dell': 17000, 'notebook asus': 2450}\n",
    "\n",
    "for chave in vendas_tecnologia:\n",
    "    print(chave)\n",
    "\n",
    "for chave in vendas_tecnologia:\n",
    "    print(chave,vendas_tecnologia[chave])\n",
    "\n",
    "for chave in vendas_tecnologia:\n",
    "    print(\"{}: {} unidades\".format(chave,vendas_tecnologia[chave]))"
   ]
  },
  {
   "cell_type": "code",
   "execution_count": 85,
   "metadata": {},
   "outputs": [
    {
     "name": "stdout",
     "output_type": "stream",
     "text": [
      "20450\n"
     ]
    }
   ],
   "source": [
    "total_notebooks = 0\n",
    "for chave in vendas_tecnologia:\n",
    "    if 'notebook' in chave:\n",
    "        total_notebooks += vendas_tecnologia[chave]\n",
    "print(total_notebooks)"
   ]
  },
  {
   "cell_type": "code",
   "execution_count": 89,
   "metadata": {},
   "outputs": [
    {
     "name": "stdout",
     "output_type": "stream",
     "text": [
      "RJ está com nívels altíssimos de CO2 (496.6), chamar equipe especializada para verificar a região\n",
      "RO está com nívels altíssimos de CO2 (455.8), chamar equipe especializada para verificar a região\n",
      "SC está com nívels altíssimos de CO2 (455.0), chamar equipe especializada para verificar a região\n"
     ]
    }
   ],
   "source": [
    "niveis_co2 = {\n",
    "    'AC': [325,405,429,486,402],\n",
    "    'AL': [492,495,310,407,388],\n",
    "    'AP': [507,503,368,338,400],\n",
    "    'AM': [429,456,352,377,363],\n",
    "    'BA': [321,508,372,490,412],\n",
    "    'CE': [424,328,425,516,480],\n",
    "    'ES': [449,506,461,337,336],\n",
    "    'GO': [425,460,385,485,460],\n",
    "    'MA': [361,310,344,425,490],\n",
    "    'MT': [358,402,425,386,379],\n",
    "    'MS': [324,357,441,405,427],\n",
    "    'MG': [345,367,391,427,516],\n",
    "    'PA': [479,514,392,493,329],\n",
    "    'PB': [418,499,317,302,476],\n",
    "    'PR': [420,508,419,396,327],\n",
    "    'PE': [404,444,495,320,343],\n",
    "    'PI': [513,513,304,377,475],\n",
    "    'RJ': [502,481,492,502,506],\n",
    "    'RN': [446,437,519,356,317],\n",
    "    'RS': [427,518,459,317,321],\n",
    "    'RO': [517,466,512,326,458],\n",
    "    'RR': [466,495,469,495,310],\n",
    "    'SC': [495,436,382,483,479],\n",
    "    'SP': [495,407,362,389,317],\n",
    "    'SE': [508,351,334,389,418],\n",
    "    'TO': [339,490,304,488,419],\n",
    "    'DF': [376,516,320,310,518], \n",
    "}\n",
    "\n",
    "for estado in niveis_co2:\n",
    "    qtde_sensores = len(niveis_co2[estado])\n",
    "    total_co2 = sum(niveis_co2[estado])\n",
    "    media_co2 = total_co2 / qtde_sensores\n",
    "    if media_co2 > 450:\n",
    "        print(\"{} está com nívels altíssimos de CO2 ({}), chamar equipe especializada para verificar a região\"\n",
    "        .format(estado,media_co2))"
   ]
  },
  {
   "cell_type": "code",
   "execution_count": 90,
   "metadata": {},
   "outputs": [
    {
     "name": "stdout",
     "output_type": "stream",
     "text": [
      "{'uri': '/videos/465407533', 'name': '15 Atalhos no Excel para Ficar Mais Produtivo', 'download': [{'quality': 'source', 'type': 'source', 'width': 1920, 'height': 1080, 'expires': '2020-10-07T04:00:55+00:00', 'link': 'https://player.vimeo.com/play/2064518513?s=465407533_1602043255_5f2f93dd00b66eba66d481f913383b4f&loc=external&context=Vimeo%5CController%5CApi%5CResources%5CUser%5CVideosController.&download=1&filename=15%2BAtalhos%2Bno%2BExcel%2Bpara%2BFicar%2BMais%2BProdutivosource.mp4', 'created_time': '2020-10-06T14:26:17+00:00', 'fps': 30, 'size': 402678442, 'md5': 'af09508ceceed4994554f04e8b931e22', 'public_name': 'Original', 'size_short': '384.02MB'}, {'quality': 'hd', 'type': 'video/mp4', 'width': 1920, 'height': 1080, 'expires': '2020-10-07T04:00:55+00:00', 'link': 'https://player.vimeo.com/play/2064523157?s=465407533_1602043255_ab7b8353c59b5048032396ec5d95a276&loc=external&context=Vimeo%5CController%5CApi%5CResources%5CUser%5CVideosController.&download=1&filename=15%2BAtalhos%2Bno%2BExcel%2Bpara%2BFicar%2BMais%2BProdutivo175.mp4', 'created_time': '2020-10-06T14:29:06+00:00', 'fps': 30, 'size': 173556205, 'md5': '3c05e1e69bd6b13eb1464451033907d2', 'public_name': 'HD 1080p', 'size_short': '165.52MB'}, {'quality': 'sd', 'type': 'video/mp4', 'width': 960, 'height': 540, 'expires': '2020-10-07T04:00:55+00:00', 'link': 'https://player.vimeo.com/play/2064523153?s=465407533_1602043255_f5ac38009ec5c0a13b30600c631446a3&loc=external&context=Vimeo%5CController%5CApi%5CResources%5CUser%5CVideosController.&download=1&filename=15%2BAtalhos%2Bno%2BExcel%2Bpara%2BFicar%2BMais%2BProdutivo165.mp4', 'created_time': '2020-10-06T14:29:06+00:00', 'fps': 30, 'size': 89881848, 'md5': '4a5c5c96cdf18202ed20ca534fd88007', 'public_name': 'SD 540p', 'size_short': '85.72MB'}, {'quality': 'sd', 'type': 'video/mp4', 'width': 426, 'height': 240, 'expires': '2020-10-07T04:00:55+00:00', 'link': 'https://player.vimeo.com/play/2064522788?s=465407533_1602043255_16c69872e2c4e92cc949d0b772242959&loc=external&context=Vimeo%5CController%5CApi%5CResources%5CUser%5CVideosController.&download=1&filename=15%2BAtalhos%2Bno%2BExcel%2Bpara%2BFicar%2BMais%2BProdutivo139.mp4', 'created_time': '2020-10-06T14:28:31+00:00', 'fps': 30, 'size': 27401450, 'md5': '91cc0229087ec94bf67f64b01ad8768d', 'public_name': 'SD 240p', 'size_short': '26.13MB'}, {'quality': 'sd', 'type': 'video/mp4', 'width': 640, 'height': 360, 'expires': '2020-10-07T04:00:55+00:00', 'link': 'https://player.vimeo.com/play/2064522787?s=465407533_1602043255_310b087e2fc8c5e1154ce7a33d10d60e&loc=external&context=Vimeo%5CController%5CApi%5CResources%5CUser%5CVideosController.&download=1&filename=15%2BAtalhos%2Bno%2BExcel%2Bpara%2BFicar%2BMais%2BProdutivo164.mp4', 'created_time': '2020-10-06T14:28:31+00:00', 'fps': 30, 'size': 48627155, 'md5': '548640bf79ce1552a3401726bb0e4224', 'public_name': 'SD 360p', 'size_short': '46.37MB'}]}\n"
     ]
    }
   ],
   "source": [
    "video = {'uri': '/videos/465407533', 'name': '15 Atalhos no Excel para Ficar Mais Produtivo', 'download': [{'quality': 'source', 'type': 'source', 'width': 1920, 'height': 1080, 'expires': '2020-10-07T04:00:55+00:00', 'link': 'https://player.vimeo.com/play/2064518513?s=465407533_1602043255_5f2f93dd00b66eba66d481f913383b4f&loc=external&context=Vimeo%5CController%5CApi%5CResources%5CUser%5CVideosController.&download=1&filename=15%2BAtalhos%2Bno%2BExcel%2Bpara%2BFicar%2BMais%2BProdutivosource.mp4', 'created_time': '2020-10-06T14:26:17+00:00', 'fps': 30, 'size': 402678442, 'md5': 'af09508ceceed4994554f04e8b931e22', 'public_name': 'Original', 'size_short': '384.02MB'}, {'quality': 'hd', 'type': 'video/mp4', 'width': 1920, 'height': 1080, 'expires': '2020-10-07T04:00:55+00:00', 'link': 'https://player.vimeo.com/play/2064523157?s=465407533_1602043255_ab7b8353c59b5048032396ec5d95a276&loc=external&context=Vimeo%5CController%5CApi%5CResources%5CUser%5CVideosController.&download=1&filename=15%2BAtalhos%2Bno%2BExcel%2Bpara%2BFicar%2BMais%2BProdutivo175.mp4', 'created_time': '2020-10-06T14:29:06+00:00', 'fps': 30, 'size': 173556205, 'md5': '3c05e1e69bd6b13eb1464451033907d2', 'public_name': 'HD 1080p', 'size_short': '165.52MB'}, {'quality': 'sd', 'type': 'video/mp4', 'width': 960, 'height': 540, 'expires': '2020-10-07T04:00:55+00:00', 'link': 'https://player.vimeo.com/play/2064523153?s=465407533_1602043255_f5ac38009ec5c0a13b30600c631446a3&loc=external&context=Vimeo%5CController%5CApi%5CResources%5CUser%5CVideosController.&download=1&filename=15%2BAtalhos%2Bno%2BExcel%2Bpara%2BFicar%2BMais%2BProdutivo165.mp4', 'created_time': '2020-10-06T14:29:06+00:00', 'fps': 30, 'size': 89881848, 'md5': '4a5c5c96cdf18202ed20ca534fd88007', 'public_name': 'SD 540p', 'size_short': '85.72MB'}, {'quality': 'sd', 'type': 'video/mp4', 'width': 426, 'height': 240, 'expires': '2020-10-07T04:00:55+00:00', 'link': 'https://player.vimeo.com/play/2064522788?s=465407533_1602043255_16c69872e2c4e92cc949d0b772242959&loc=external&context=Vimeo%5CController%5CApi%5CResources%5CUser%5CVideosController.&download=1&filename=15%2BAtalhos%2Bno%2BExcel%2Bpara%2BFicar%2BMais%2BProdutivo139.mp4', 'created_time': '2020-10-06T14:28:31+00:00', 'fps': 30, 'size': 27401450, 'md5': '91cc0229087ec94bf67f64b01ad8768d', 'public_name': 'SD 240p', 'size_short': '26.13MB'}, {'quality': 'sd', 'type': 'video/mp4', 'width': 640, 'height': 360, 'expires': '2020-10-07T04:00:55+00:00', 'link': 'https://player.vimeo.com/play/2064522787?s=465407533_1602043255_310b087e2fc8c5e1154ce7a33d10d60e&loc=external&context=Vimeo%5CController%5CApi%5CResources%5CUser%5CVideosController.&download=1&filename=15%2BAtalhos%2Bno%2BExcel%2Bpara%2BFicar%2BMais%2BProdutivo164.mp4', 'created_time': '2020-10-06T14:28:31+00:00', 'fps': 30, 'size': 48627155, 'md5': '548640bf79ce1552a3401726bb0e4224', 'public_name': 'SD 360p', 'size_short': '46.37MB'}]}\n",
    "print(video)"
   ]
  },
  {
   "cell_type": "code",
   "execution_count": 91,
   "metadata": {},
   "outputs": [
    {
     "name": "stdout",
     "output_type": "stream",
     "text": [
      "uri\n",
      "name\n",
      "download\n"
     ]
    }
   ],
   "source": [
    "for item in video:\n",
    "    print(item)"
   ]
  },
  {
   "cell_type": "code",
   "execution_count": 92,
   "metadata": {},
   "outputs": [
    {
     "name": "stdout",
     "output_type": "stream",
     "text": [
      "[{'quality': 'source', 'type': 'source', 'width': 1920, 'height': 1080, 'expires': '2020-10-07T04:00:55+00:00', 'link': 'https://player.vimeo.com/play/2064518513?s=465407533_1602043255_5f2f93dd00b66eba66d481f913383b4f&loc=external&context=Vimeo%5CController%5CApi%5CResources%5CUser%5CVideosController.&download=1&filename=15%2BAtalhos%2Bno%2BExcel%2Bpara%2BFicar%2BMais%2BProdutivosource.mp4', 'created_time': '2020-10-06T14:26:17+00:00', 'fps': 30, 'size': 402678442, 'md5': 'af09508ceceed4994554f04e8b931e22', 'public_name': 'Original', 'size_short': '384.02MB'}, {'quality': 'hd', 'type': 'video/mp4', 'width': 1920, 'height': 1080, 'expires': '2020-10-07T04:00:55+00:00', 'link': 'https://player.vimeo.com/play/2064523157?s=465407533_1602043255_ab7b8353c59b5048032396ec5d95a276&loc=external&context=Vimeo%5CController%5CApi%5CResources%5CUser%5CVideosController.&download=1&filename=15%2BAtalhos%2Bno%2BExcel%2Bpara%2BFicar%2BMais%2BProdutivo175.mp4', 'created_time': '2020-10-06T14:29:06+00:00', 'fps': 30, 'size': 173556205, 'md5': '3c05e1e69bd6b13eb1464451033907d2', 'public_name': 'HD 1080p', 'size_short': '165.52MB'}, {'quality': 'sd', 'type': 'video/mp4', 'width': 960, 'height': 540, 'expires': '2020-10-07T04:00:55+00:00', 'link': 'https://player.vimeo.com/play/2064523153?s=465407533_1602043255_f5ac38009ec5c0a13b30600c631446a3&loc=external&context=Vimeo%5CController%5CApi%5CResources%5CUser%5CVideosController.&download=1&filename=15%2BAtalhos%2Bno%2BExcel%2Bpara%2BFicar%2BMais%2BProdutivo165.mp4', 'created_time': '2020-10-06T14:29:06+00:00', 'fps': 30, 'size': 89881848, 'md5': '4a5c5c96cdf18202ed20ca534fd88007', 'public_name': 'SD 540p', 'size_short': '85.72MB'}, {'quality': 'sd', 'type': 'video/mp4', 'width': 426, 'height': 240, 'expires': '2020-10-07T04:00:55+00:00', 'link': 'https://player.vimeo.com/play/2064522788?s=465407533_1602043255_16c69872e2c4e92cc949d0b772242959&loc=external&context=Vimeo%5CController%5CApi%5CResources%5CUser%5CVideosController.&download=1&filename=15%2BAtalhos%2Bno%2BExcel%2Bpara%2BFicar%2BMais%2BProdutivo139.mp4', 'created_time': '2020-10-06T14:28:31+00:00', 'fps': 30, 'size': 27401450, 'md5': '91cc0229087ec94bf67f64b01ad8768d', 'public_name': 'SD 240p', 'size_short': '26.13MB'}, {'quality': 'sd', 'type': 'video/mp4', 'width': 640, 'height': 360, 'expires': '2020-10-07T04:00:55+00:00', 'link': 'https://player.vimeo.com/play/2064522787?s=465407533_1602043255_310b087e2fc8c5e1154ce7a33d10d60e&loc=external&context=Vimeo%5CController%5CApi%5CResources%5CUser%5CVideosController.&download=1&filename=15%2BAtalhos%2Bno%2BExcel%2Bpara%2BFicar%2BMais%2BProdutivo164.mp4', 'created_time': '2020-10-06T14:28:31+00:00', 'fps': 30, 'size': 48627155, 'md5': '548640bf79ce1552a3401726bb0e4224', 'public_name': 'SD 360p', 'size_short': '46.37MB'}]\n"
     ]
    }
   ],
   "source": [
    "print(video[\"download\"])"
   ]
  },
  {
   "cell_type": "code",
   "execution_count": 93,
   "metadata": {},
   "outputs": [
    {
     "name": "stdout",
     "output_type": "stream",
     "text": [
      "{'quality': 'source', 'type': 'source', 'width': 1920, 'height': 1080, 'expires': '2020-10-07T04:00:55+00:00', 'link': 'https://player.vimeo.com/play/2064518513?s=465407533_1602043255_5f2f93dd00b66eba66d481f913383b4f&loc=external&context=Vimeo%5CController%5CApi%5CResources%5CUser%5CVideosController.&download=1&filename=15%2BAtalhos%2Bno%2BExcel%2Bpara%2BFicar%2BMais%2BProdutivosource.mp4', 'created_time': '2020-10-06T14:26:17+00:00', 'fps': 30, 'size': 402678442, 'md5': 'af09508ceceed4994554f04e8b931e22', 'public_name': 'Original', 'size_short': '384.02MB'}\n"
     ]
    }
   ],
   "source": [
    "print(video[\"download\"][0])"
   ]
  },
  {
   "cell_type": "code",
   "execution_count": 94,
   "metadata": {},
   "outputs": [
    {
     "name": "stdout",
     "output_type": "stream",
     "text": [
      "https://player.vimeo.com/play/2064518513?s=465407533_1602043255_5f2f93dd00b66eba66d481f913383b4f&loc=external&context=Vimeo%5CController%5CApi%5CResources%5CUser%5CVideosController.&download=1&filename=15%2BAtalhos%2Bno%2BExcel%2Bpara%2BFicar%2BMais%2BProdutivosource.mp4\n"
     ]
    }
   ],
   "source": [
    "print(video[\"download\"][0][\"link\"])"
   ]
  },
  {
   "cell_type": "code",
   "execution_count": 7,
   "metadata": {},
   "outputs": [
    {
     "name": "stdout",
     "output_type": "stream",
     "text": [
      "dict_items([('notebook asus', 2450), ('iphone', 15000), ('samsung galaxy', 12000), ('tv samsung', 10000), ('ps5', 14300)])\n",
      "notebook asus: 2450 unidades\n",
      "iphone: 15000 unidades\n",
      "samsung galaxy: 12000 unidades\n",
      "tv samsung: 10000 unidades\n",
      "ps5: 14300 unidades\n"
     ]
    }
   ],
   "source": [
    "vendas_tecnologia = {\"notebook asus\":2450,\"iphone\":15000,\"samsung galaxy\":12000,\"tv samsung\":10000,\"ps5\":14300}\n",
    "itens_dicionario = vendas_tecnologia.items()\n",
    "print(itens_dicionario)\n",
    "\n",
    "for item, qtde in vendas_tecnologia.items():\n",
    "    print(\"{}: {} unidades\".format(item,qtde))"
   ]
  },
  {
   "cell_type": "code",
   "execution_count": 9,
   "metadata": {},
   "outputs": [
    {
     "name": "stdout",
     "output_type": "stream",
     "text": [
      "iphone: 15000 unidades\n",
      "samsung galaxy: 12000 unidades\n",
      "tv samsung: 10000 unidades\n",
      "ps5: 14300 unidades\n"
     ]
    }
   ],
   "source": [
    "for chave in vendas_tecnologia:\n",
    "    if vendas_tecnologia[chave] > 5000:\n",
    "        print(\"{}: {} unidades\".format(chave,vendas_tecnologia[chave]))"
   ]
  },
  {
   "cell_type": "code",
   "execution_count": 10,
   "metadata": {},
   "outputs": [
    {
     "name": "stdout",
     "output_type": "stream",
     "text": [
      "iphone: 15000 unidades\n",
      "samsung galaxy: 12000 unidades\n",
      "tv samsung: 10000 unidades\n",
      "ps5: 14300 unidades\n"
     ]
    }
   ],
   "source": [
    "for produto, qtde in vendas_tecnologia.items():\n",
    "    if qtde > 5000:\n",
    "        print(\"{}: {} unidades\".format(produto,qtde))"
   ]
  },
  {
   "cell_type": "code",
   "execution_count": 12,
   "metadata": {},
   "outputs": [
    {
     "name": "stdout",
     "output_type": "stream",
     "text": [
      "dict_keys(['notebook asus', 'iphone', 'samsung galaxy', 'tv samsung', 'ps5'])\n",
      "dict_values([2450, 15000, 12000, 10000, 14300])\n"
     ]
    }
   ],
   "source": [
    "chaves = vendas_tecnologia.keys()\n",
    "valores = vendas_tecnologia.values()\n",
    "print(chaves)\n",
    "print(valores)"
   ]
  },
  {
   "cell_type": "code",
   "execution_count": 13,
   "metadata": {},
   "outputs": [],
   "source": [
    "vendas_tecnologia['liraphone'] = 10"
   ]
  },
  {
   "cell_type": "code",
   "execution_count": 14,
   "metadata": {},
   "outputs": [
    {
     "name": "stdout",
     "output_type": "stream",
     "text": [
      "dict_keys(['notebook asus', 'iphone', 'samsung galaxy', 'tv samsung', 'ps5', 'liraphone'])\n",
      "dict_values([2450, 15000, 12000, 10000, 14300, 10])\n"
     ]
    }
   ],
   "source": [
    "print(chaves)\n",
    "print(valores)"
   ]
  },
  {
   "cell_type": "code",
   "execution_count": 17,
   "metadata": {},
   "outputs": [
    {
     "name": "stdout",
     "output_type": "stream",
     "text": [
      "['notebook asus', 'iphone', 'samsung galaxy', 'tv samsung', 'ps5', 'liraphone']\n",
      "[2450, 15000, 12000, 10000, 14300, 10]\n"
     ]
    }
   ],
   "source": [
    "print(list(chaves))\n",
    "print(list(valores))"
   ]
  },
  {
   "cell_type": "code",
   "execution_count": null,
   "metadata": {},
   "outputs": [],
   "source": [
    "for chave in vendas_tecnologia:\n",
    "    print(\"{}: {} unidades\".format())"
   ]
  },
  {
   "cell_type": "code",
   "execution_count": 19,
   "metadata": {},
   "outputs": [
    {
     "name": "stdout",
     "output_type": "stream",
     "text": [
      "notebook asus: 2450 unidades\n",
      "iphone: 15000 unidades\n",
      "samsung galaxy: 12000 unidades\n",
      "tv samsung: 10000 unidades\n",
      "ps5: 14300 unidades\n",
      "liraphone: 10 unidades\n"
     ]
    }
   ],
   "source": [
    "lista_chaves = list(chaves)\n",
    "lista_chaves.sort\n",
    "\n",
    "for chave in lista_chaves:\n",
    "    print(\"{}: {} unidades\".format(chave,vendas_tecnologia[chave]))"
   ]
  },
  {
   "cell_type": "code",
   "execution_count": 23,
   "metadata": {},
   "outputs": [],
   "source": [
    "produtos = ['iphone', 'samsung galaxy', 'tv samsung', 'ps5', 'tablet', 'ipad', 'tv philco', 'notebook hp', 'notebook dell', 'notebook asus']\n",
    "vendas = [15000, 12000, 10000, 14300, 1720, 1000, 2500, 1000, 17000, 2450]"
   ]
  },
  {
   "cell_type": "code",
   "execution_count": 22,
   "metadata": {},
   "outputs": [
    {
     "name": "stdout",
     "output_type": "stream",
     "text": [
      "{'iphone': 0, 'samsung galaxy': 0, 'tv samsung': 0, 'ps5': 0, 'tablet': 0, 'ipad': 0, 'tv philco': 0, 'notebook hp': 0, 'notebook dell': 0, 'notebook asus': 0}\n"
     ]
    }
   ],
   "source": [
    "dicionario = dict.fromkeys(produtos,0)\n",
    "print(dicionario)"
   ]
  },
  {
   "cell_type": "code",
   "execution_count": 24,
   "metadata": {},
   "outputs": [],
   "source": [
    "lista_tuplas = zip(produtos,vendas)"
   ]
  },
  {
   "cell_type": "code",
   "execution_count": 25,
   "metadata": {},
   "outputs": [
    {
     "name": "stdout",
     "output_type": "stream",
     "text": [
      "<zip object at 0x00000236FAE2E4C0>\n"
     ]
    }
   ],
   "source": [
    "print(lista_tuplas)"
   ]
  },
  {
   "cell_type": "code",
   "execution_count": 26,
   "metadata": {},
   "outputs": [
    {
     "name": "stdout",
     "output_type": "stream",
     "text": [
      "('iphone', 15000)\n",
      "('samsung galaxy', 12000)\n",
      "('tv samsung', 10000)\n",
      "('ps5', 14300)\n",
      "('tablet', 1720)\n",
      "('ipad', 1000)\n",
      "('tv philco', 2500)\n",
      "('notebook hp', 1000)\n",
      "('notebook dell', 17000)\n",
      "('notebook asus', 2450)\n"
     ]
    }
   ],
   "source": [
    "for item in lista_tuplas:\n",
    "    print(item)"
   ]
  },
  {
   "cell_type": "code",
   "execution_count": 29,
   "metadata": {},
   "outputs": [
    {
     "name": "stdout",
     "output_type": "stream",
     "text": [
      "{'iphone': 15000, 'samsung galaxy': 12000, 'tv samsung': 10000, 'ps5': 14300, 'tablet': 1720, 'ipad': 1000, 'tv philco': 2500, 'notebook hp': 1000, 'notebook dell': 17000, 'notebook asus': 2450}\n"
     ]
    }
   ],
   "source": [
    "lista_tuplas = zip(produtos,vendas)\n",
    "dicionario_vendas = dict(lista_tuplas)\n",
    "print(dicionario_vendas)"
   ]
  },
  {
   "cell_type": "code",
   "execution_count": 31,
   "metadata": {},
   "outputs": [
    {
     "name": "stdout",
     "output_type": "stream",
     "text": [
      "Vendemos 1000 ipads\n",
      "Vendemos 1000 ipads\n"
     ]
    }
   ],
   "source": [
    "indice = produtos.index(\"ipad\")\n",
    "print(\"Vendemos {} ipads\".format(vendas[indice]))\n",
    "\n",
    "print(\"Vendemos {} ipads\".format(dicionario_vendas[\"ipad\"]))"
   ]
  },
  {
   "cell_type": "code",
   "execution_count": 32,
   "metadata": {},
   "outputs": [],
   "source": [
    "produtos = ['iphone', 'galaxy', 'ipad', 'tv', 'máquina de café', 'kindle', 'geladeira', 'adega', 'notebook dell', 'notebook hp', 'notebook asus', 'microsoft surface', 'webcam', 'caixa de som', 'microfone', 'câmera canon']\n",
    "vendas2019 = [558147,712350,573823,405252,718654,531580,973139,892292,422760,154753,887061,438508,237467,489705,328311,591120]\n",
    "vendas2020 = [951642,244295,26964,787604,867660,78830,710331,646016,694913,539704,324831,667179,295633,725316,644622,994303]"
   ]
  },
  {
   "cell_type": "code",
   "execution_count": 33,
   "metadata": {},
   "outputs": [
    {
     "name": "stdout",
     "output_type": "stream",
     "text": [
      "<zip object at 0x00000236FADB5A80>\n"
     ]
    }
   ],
   "source": [
    "vendas = zip(vendas2019,vendas2020)\n",
    "print(vendas)"
   ]
  },
  {
   "cell_type": "code",
   "execution_count": 34,
   "metadata": {},
   "outputs": [
    {
     "name": "stdout",
     "output_type": "stream",
     "text": [
      "[(558147, 951642), (712350, 244295), (573823, 26964), (405252, 787604), (718654, 867660), (531580, 78830), (973139, 710331), (892292, 646016), (422760, 694913), (154753, 539704), (887061, 324831), (438508, 667179), (237467, 295633), (489705, 725316), (328311, 644622), (591120, 994303)]\n"
     ]
    }
   ],
   "source": [
    "print(list(vendas))"
   ]
  },
  {
   "cell_type": "code",
   "execution_count": 39,
   "metadata": {},
   "outputs": [],
   "source": [
    "vendas = list(zip(vendas2019,vendas2020))\n",
    "vendas_produtos = dict(zip(produtos,vendas))"
   ]
  },
  {
   "cell_type": "code",
   "execution_count": 40,
   "metadata": {},
   "outputs": [
    {
     "name": "stdout",
     "output_type": "stream",
     "text": [
      "{'iphone': (558147, 951642), 'galaxy': (712350, 244295), 'ipad': (573823, 26964), 'tv': (405252, 787604), 'máquina de café': (718654, 867660), 'kindle': (531580, 78830), 'geladeira': (973139, 710331), 'adega': (892292, 646016), 'notebook dell': (422760, 694913), 'notebook hp': (154753, 539704), 'notebook asus': (887061, 324831), 'microsoft surface': (438508, 667179), 'webcam': (237467, 295633), 'caixa de som': (489705, 725316), 'microfone': (328311, 644622), 'câmera canon': (591120, 994303)}\n"
     ]
    }
   ],
   "source": [
    "print(vendas_produtos)"
   ]
  },
  {
   "cell_type": "code",
   "execution_count": 41,
   "metadata": {},
   "outputs": [
    {
     "name": "stdout",
     "output_type": "stream",
     "text": [
      "arroz: 50 unidades\n",
      "feijão: 100 unidades\n",
      "macarrao: 20 unidades\n",
      "atum: 5 unidades\n",
      "azeite: 80 unidades\n"
     ]
    }
   ],
   "source": [
    "produtos = [\"arroz\",\"feijão\",\"macarrao\",\"atum\",\"azeite\"]\n",
    "estoque = [50,100,20,5,80]\n",
    "\n",
    "for i in range(5):\n",
    "    print(\"{}: {} unidades\".format(produtos[i],estoque[i]))"
   ]
  },
  {
   "cell_type": "code",
   "execution_count": 42,
   "metadata": {},
   "outputs": [
    {
     "name": "stdout",
     "output_type": "stream",
     "text": [
      "range(1, 10)\n",
      "2\n",
      "3\n",
      "4\n",
      "5\n",
      "6\n",
      "7\n",
      "8\n",
      "9\n"
     ]
    }
   ],
   "source": [
    "print(range(1,10))\n",
    "\n",
    "for i in range(2,10):\n",
    "    print(i)"
   ]
  },
  {
   "cell_type": "code",
   "execution_count": 45,
   "metadata": {},
   "outputs": [
    {
     "name": "stdout",
     "output_type": "stream",
     "text": [
      "{'macarrao', 'feijão', 'arroz', 'azeite', 'atum'}\n"
     ]
    }
   ],
   "source": [
    "set_produtos = {\"arroz\",\"feijão\",\"macarrao\",\"atum\",\"azeite\"}\n",
    "print(set_produtos)"
   ]
  },
  {
   "cell_type": "code",
   "execution_count": null,
   "metadata": {},
   "outputs": [],
   "source": [
    "def nome():\n",
    "    a\n",
    "    a\n",
    "    return(a)"
   ]
  }
 ],
 "metadata": {
  "kernelspec": {
   "display_name": "base",
   "language": "python",
   "name": "python3"
  },
  "language_info": {
   "codemirror_mode": {
    "name": "ipython",
    "version": 3
   },
   "file_extension": ".py",
   "mimetype": "text/x-python",
   "name": "python",
   "nbconvert_exporter": "python",
   "pygments_lexer": "ipython3",
   "version": "3.11.3"
  },
  "orig_nbformat": 4
 },
 "nbformat": 4,
 "nbformat_minor": 2
}
